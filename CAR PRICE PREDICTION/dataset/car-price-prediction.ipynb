{
 "cells": [
  {
   "cell_type": "code",
   "execution_count": 1,
   "id": "fc019dca",
   "metadata": {
    "_cell_guid": "b1076dfc-b9ad-4769-8c92-a6c4dae69d19",
    "_uuid": "8f2839f25d086af736a60e9eeb907d3b93b6e0e5",
    "execution": {
     "iopub.execute_input": "2023-01-01T16:15:15.415811Z",
     "iopub.status.busy": "2023-01-01T16:15:15.415357Z",
     "iopub.status.idle": "2023-01-01T16:15:15.437426Z",
     "shell.execute_reply": "2023-01-01T16:15:15.436428Z"
    },
    "papermill": {
     "duration": 0.039215,
     "end_time": "2023-01-01T16:15:15.440205",
     "exception": false,
     "start_time": "2023-01-01T16:15:15.400990",
     "status": "completed"
    },
    "tags": []
   },
   "outputs": [
    {
     "name": "stdout",
     "output_type": "stream",
     "text": [
      "/kaggle/input/car-data/CarPrice_Assignment.csv\n",
      "/kaggle/input/car-data/Data Dictionary - carprices.xlsx\n"
     ]
    }
   ],
   "source": [
    "# This Python 3 environment comes with many helpful analytics libraries installed\n",
    "# It is defined by the kaggle/python Docker image: https://github.com/kaggle/docker-python\n",
    "# For example, here's several helpful packages to load\n",
    "\n",
    "import numpy as np # linear algebra\n",
    "import pandas as pd # data processing, CSV file I/O (e.g. pd.read_csv)\n",
    "\n",
    "# Input data files are available in the read-only \"../input/\" directory\n",
    "# For example, running this (by clicking run or pressing Shift+Enter) will list all files under the input directory\n",
    "\n",
    "import os\n",
    "for dirname, _, filenames in os.walk('/kaggle/input'):\n",
    "    for filename in filenames:\n",
    "        print(os.path.join(dirname, filename))\n",
    "\n",
    "# You can write up to 20GB to the current directory (/kaggle/working/) that gets preserved as output when you create a version using \"Save & Run All\" \n",
    "# You can also write temporary files to /kaggle/temp/, but they won't be saved outside of the current session"
   ]
  },
  {
   "cell_type": "markdown",
   "id": "72bd04c5",
   "metadata": {
    "papermill": {
     "duration": 0.011671,
     "end_time": "2023-01-01T16:15:15.462344",
     "exception": false,
     "start_time": "2023-01-01T16:15:15.450673",
     "status": "completed"
    },
    "tags": []
   },
   "source": [
    "# INDEX\n",
    "* Reading CSV File\n",
    "* Simpify The data\n",
    "* collect Numerical Columns to Train the model\n",
    "* Train Test Split\n",
    "* Applying Linear Regression\n",
    "* Got 83.61% Accuracy\n"
   ]
  },
  {
   "cell_type": "markdown",
   "id": "aaf56131",
   "metadata": {
    "papermill": {
     "duration": 0.009677,
     "end_time": "2023-01-01T16:15:15.481975",
     "exception": false,
     "start_time": "2023-01-01T16:15:15.472298",
     "status": "completed"
    },
    "tags": []
   },
   "source": [
    "# Reading The CSV File"
   ]
  },
  {
   "cell_type": "code",
   "execution_count": 2,
   "id": "ac29550f",
   "metadata": {
    "execution": {
     "iopub.execute_input": "2023-01-01T16:15:15.504480Z",
     "iopub.status.busy": "2023-01-01T16:15:15.504116Z",
     "iopub.status.idle": "2023-01-01T16:15:15.524384Z",
     "shell.execute_reply": "2023-01-01T16:15:15.523411Z"
    },
    "papermill": {
     "duration": 0.034555,
     "end_time": "2023-01-01T16:15:15.526730",
     "exception": false,
     "start_time": "2023-01-01T16:15:15.492175",
     "status": "completed"
    },
    "tags": []
   },
   "outputs": [],
   "source": [
    "df=pd.read_csv(\"/kaggle/input/car-data/CarPrice_Assignment.csv\")"
   ]
  },
  {
   "cell_type": "code",
   "execution_count": 3,
   "id": "cc6bb414",
   "metadata": {
    "execution": {
     "iopub.execute_input": "2023-01-01T16:15:15.549264Z",
     "iopub.status.busy": "2023-01-01T16:15:15.548861Z",
     "iopub.status.idle": "2023-01-01T16:15:15.598010Z",
     "shell.execute_reply": "2023-01-01T16:15:15.596613Z"
    },
    "papermill": {
     "duration": 0.064689,
     "end_time": "2023-01-01T16:15:15.601626",
     "exception": false,
     "start_time": "2023-01-01T16:15:15.536937",
     "status": "completed"
    },
    "tags": []
   },
   "outputs": [
    {
     "data": {
      "text/html": [
       "<div>\n",
       "<style scoped>\n",
       "    .dataframe tbody tr th:only-of-type {\n",
       "        vertical-align: middle;\n",
       "    }\n",
       "\n",
       "    .dataframe tbody tr th {\n",
       "        vertical-align: top;\n",
       "    }\n",
       "\n",
       "    .dataframe thead th {\n",
       "        text-align: right;\n",
       "    }\n",
       "</style>\n",
       "<table border=\"1\" class=\"dataframe\">\n",
       "  <thead>\n",
       "    <tr style=\"text-align: right;\">\n",
       "      <th></th>\n",
       "      <th>car_ID</th>\n",
       "      <th>symboling</th>\n",
       "      <th>CarName</th>\n",
       "      <th>fueltype</th>\n",
       "      <th>aspiration</th>\n",
       "      <th>doornumber</th>\n",
       "      <th>carbody</th>\n",
       "      <th>drivewheel</th>\n",
       "      <th>enginelocation</th>\n",
       "      <th>wheelbase</th>\n",
       "      <th>...</th>\n",
       "      <th>enginesize</th>\n",
       "      <th>fuelsystem</th>\n",
       "      <th>boreratio</th>\n",
       "      <th>stroke</th>\n",
       "      <th>compressionratio</th>\n",
       "      <th>horsepower</th>\n",
       "      <th>peakrpm</th>\n",
       "      <th>citympg</th>\n",
       "      <th>highwaympg</th>\n",
       "      <th>price</th>\n",
       "    </tr>\n",
       "  </thead>\n",
       "  <tbody>\n",
       "    <tr>\n",
       "      <th>0</th>\n",
       "      <td>1</td>\n",
       "      <td>3</td>\n",
       "      <td>alfa-romero giulia</td>\n",
       "      <td>gas</td>\n",
       "      <td>std</td>\n",
       "      <td>two</td>\n",
       "      <td>convertible</td>\n",
       "      <td>rwd</td>\n",
       "      <td>front</td>\n",
       "      <td>88.6</td>\n",
       "      <td>...</td>\n",
       "      <td>130</td>\n",
       "      <td>mpfi</td>\n",
       "      <td>3.47</td>\n",
       "      <td>2.68</td>\n",
       "      <td>9.0</td>\n",
       "      <td>111</td>\n",
       "      <td>5000</td>\n",
       "      <td>21</td>\n",
       "      <td>27</td>\n",
       "      <td>13495.0</td>\n",
       "    </tr>\n",
       "    <tr>\n",
       "      <th>1</th>\n",
       "      <td>2</td>\n",
       "      <td>3</td>\n",
       "      <td>alfa-romero stelvio</td>\n",
       "      <td>gas</td>\n",
       "      <td>std</td>\n",
       "      <td>two</td>\n",
       "      <td>convertible</td>\n",
       "      <td>rwd</td>\n",
       "      <td>front</td>\n",
       "      <td>88.6</td>\n",
       "      <td>...</td>\n",
       "      <td>130</td>\n",
       "      <td>mpfi</td>\n",
       "      <td>3.47</td>\n",
       "      <td>2.68</td>\n",
       "      <td>9.0</td>\n",
       "      <td>111</td>\n",
       "      <td>5000</td>\n",
       "      <td>21</td>\n",
       "      <td>27</td>\n",
       "      <td>16500.0</td>\n",
       "    </tr>\n",
       "    <tr>\n",
       "      <th>2</th>\n",
       "      <td>3</td>\n",
       "      <td>1</td>\n",
       "      <td>alfa-romero Quadrifoglio</td>\n",
       "      <td>gas</td>\n",
       "      <td>std</td>\n",
       "      <td>two</td>\n",
       "      <td>hatchback</td>\n",
       "      <td>rwd</td>\n",
       "      <td>front</td>\n",
       "      <td>94.5</td>\n",
       "      <td>...</td>\n",
       "      <td>152</td>\n",
       "      <td>mpfi</td>\n",
       "      <td>2.68</td>\n",
       "      <td>3.47</td>\n",
       "      <td>9.0</td>\n",
       "      <td>154</td>\n",
       "      <td>5000</td>\n",
       "      <td>19</td>\n",
       "      <td>26</td>\n",
       "      <td>16500.0</td>\n",
       "    </tr>\n",
       "    <tr>\n",
       "      <th>3</th>\n",
       "      <td>4</td>\n",
       "      <td>2</td>\n",
       "      <td>audi 100 ls</td>\n",
       "      <td>gas</td>\n",
       "      <td>std</td>\n",
       "      <td>four</td>\n",
       "      <td>sedan</td>\n",
       "      <td>fwd</td>\n",
       "      <td>front</td>\n",
       "      <td>99.8</td>\n",
       "      <td>...</td>\n",
       "      <td>109</td>\n",
       "      <td>mpfi</td>\n",
       "      <td>3.19</td>\n",
       "      <td>3.40</td>\n",
       "      <td>10.0</td>\n",
       "      <td>102</td>\n",
       "      <td>5500</td>\n",
       "      <td>24</td>\n",
       "      <td>30</td>\n",
       "      <td>13950.0</td>\n",
       "    </tr>\n",
       "    <tr>\n",
       "      <th>4</th>\n",
       "      <td>5</td>\n",
       "      <td>2</td>\n",
       "      <td>audi 100ls</td>\n",
       "      <td>gas</td>\n",
       "      <td>std</td>\n",
       "      <td>four</td>\n",
       "      <td>sedan</td>\n",
       "      <td>4wd</td>\n",
       "      <td>front</td>\n",
       "      <td>99.4</td>\n",
       "      <td>...</td>\n",
       "      <td>136</td>\n",
       "      <td>mpfi</td>\n",
       "      <td>3.19</td>\n",
       "      <td>3.40</td>\n",
       "      <td>8.0</td>\n",
       "      <td>115</td>\n",
       "      <td>5500</td>\n",
       "      <td>18</td>\n",
       "      <td>22</td>\n",
       "      <td>17450.0</td>\n",
       "    </tr>\n",
       "    <tr>\n",
       "      <th>...</th>\n",
       "      <td>...</td>\n",
       "      <td>...</td>\n",
       "      <td>...</td>\n",
       "      <td>...</td>\n",
       "      <td>...</td>\n",
       "      <td>...</td>\n",
       "      <td>...</td>\n",
       "      <td>...</td>\n",
       "      <td>...</td>\n",
       "      <td>...</td>\n",
       "      <td>...</td>\n",
       "      <td>...</td>\n",
       "      <td>...</td>\n",
       "      <td>...</td>\n",
       "      <td>...</td>\n",
       "      <td>...</td>\n",
       "      <td>...</td>\n",
       "      <td>...</td>\n",
       "      <td>...</td>\n",
       "      <td>...</td>\n",
       "      <td>...</td>\n",
       "    </tr>\n",
       "    <tr>\n",
       "      <th>200</th>\n",
       "      <td>201</td>\n",
       "      <td>-1</td>\n",
       "      <td>volvo 145e (sw)</td>\n",
       "      <td>gas</td>\n",
       "      <td>std</td>\n",
       "      <td>four</td>\n",
       "      <td>sedan</td>\n",
       "      <td>rwd</td>\n",
       "      <td>front</td>\n",
       "      <td>109.1</td>\n",
       "      <td>...</td>\n",
       "      <td>141</td>\n",
       "      <td>mpfi</td>\n",
       "      <td>3.78</td>\n",
       "      <td>3.15</td>\n",
       "      <td>9.5</td>\n",
       "      <td>114</td>\n",
       "      <td>5400</td>\n",
       "      <td>23</td>\n",
       "      <td>28</td>\n",
       "      <td>16845.0</td>\n",
       "    </tr>\n",
       "    <tr>\n",
       "      <th>201</th>\n",
       "      <td>202</td>\n",
       "      <td>-1</td>\n",
       "      <td>volvo 144ea</td>\n",
       "      <td>gas</td>\n",
       "      <td>turbo</td>\n",
       "      <td>four</td>\n",
       "      <td>sedan</td>\n",
       "      <td>rwd</td>\n",
       "      <td>front</td>\n",
       "      <td>109.1</td>\n",
       "      <td>...</td>\n",
       "      <td>141</td>\n",
       "      <td>mpfi</td>\n",
       "      <td>3.78</td>\n",
       "      <td>3.15</td>\n",
       "      <td>8.7</td>\n",
       "      <td>160</td>\n",
       "      <td>5300</td>\n",
       "      <td>19</td>\n",
       "      <td>25</td>\n",
       "      <td>19045.0</td>\n",
       "    </tr>\n",
       "    <tr>\n",
       "      <th>202</th>\n",
       "      <td>203</td>\n",
       "      <td>-1</td>\n",
       "      <td>volvo 244dl</td>\n",
       "      <td>gas</td>\n",
       "      <td>std</td>\n",
       "      <td>four</td>\n",
       "      <td>sedan</td>\n",
       "      <td>rwd</td>\n",
       "      <td>front</td>\n",
       "      <td>109.1</td>\n",
       "      <td>...</td>\n",
       "      <td>173</td>\n",
       "      <td>mpfi</td>\n",
       "      <td>3.58</td>\n",
       "      <td>2.87</td>\n",
       "      <td>8.8</td>\n",
       "      <td>134</td>\n",
       "      <td>5500</td>\n",
       "      <td>18</td>\n",
       "      <td>23</td>\n",
       "      <td>21485.0</td>\n",
       "    </tr>\n",
       "    <tr>\n",
       "      <th>203</th>\n",
       "      <td>204</td>\n",
       "      <td>-1</td>\n",
       "      <td>volvo 246</td>\n",
       "      <td>diesel</td>\n",
       "      <td>turbo</td>\n",
       "      <td>four</td>\n",
       "      <td>sedan</td>\n",
       "      <td>rwd</td>\n",
       "      <td>front</td>\n",
       "      <td>109.1</td>\n",
       "      <td>...</td>\n",
       "      <td>145</td>\n",
       "      <td>idi</td>\n",
       "      <td>3.01</td>\n",
       "      <td>3.40</td>\n",
       "      <td>23.0</td>\n",
       "      <td>106</td>\n",
       "      <td>4800</td>\n",
       "      <td>26</td>\n",
       "      <td>27</td>\n",
       "      <td>22470.0</td>\n",
       "    </tr>\n",
       "    <tr>\n",
       "      <th>204</th>\n",
       "      <td>205</td>\n",
       "      <td>-1</td>\n",
       "      <td>volvo 264gl</td>\n",
       "      <td>gas</td>\n",
       "      <td>turbo</td>\n",
       "      <td>four</td>\n",
       "      <td>sedan</td>\n",
       "      <td>rwd</td>\n",
       "      <td>front</td>\n",
       "      <td>109.1</td>\n",
       "      <td>...</td>\n",
       "      <td>141</td>\n",
       "      <td>mpfi</td>\n",
       "      <td>3.78</td>\n",
       "      <td>3.15</td>\n",
       "      <td>9.5</td>\n",
       "      <td>114</td>\n",
       "      <td>5400</td>\n",
       "      <td>19</td>\n",
       "      <td>25</td>\n",
       "      <td>22625.0</td>\n",
       "    </tr>\n",
       "  </tbody>\n",
       "</table>\n",
       "<p>205 rows × 26 columns</p>\n",
       "</div>"
      ],
      "text/plain": [
       "     car_ID  symboling                   CarName fueltype aspiration  \\\n",
       "0         1          3        alfa-romero giulia      gas        std   \n",
       "1         2          3       alfa-romero stelvio      gas        std   \n",
       "2         3          1  alfa-romero Quadrifoglio      gas        std   \n",
       "3         4          2               audi 100 ls      gas        std   \n",
       "4         5          2                audi 100ls      gas        std   \n",
       "..      ...        ...                       ...      ...        ...   \n",
       "200     201         -1           volvo 145e (sw)      gas        std   \n",
       "201     202         -1               volvo 144ea      gas      turbo   \n",
       "202     203         -1               volvo 244dl      gas        std   \n",
       "203     204         -1                 volvo 246   diesel      turbo   \n",
       "204     205         -1               volvo 264gl      gas      turbo   \n",
       "\n",
       "    doornumber      carbody drivewheel enginelocation  wheelbase  ...  \\\n",
       "0          two  convertible        rwd          front       88.6  ...   \n",
       "1          two  convertible        rwd          front       88.6  ...   \n",
       "2          two    hatchback        rwd          front       94.5  ...   \n",
       "3         four        sedan        fwd          front       99.8  ...   \n",
       "4         four        sedan        4wd          front       99.4  ...   \n",
       "..         ...          ...        ...            ...        ...  ...   \n",
       "200       four        sedan        rwd          front      109.1  ...   \n",
       "201       four        sedan        rwd          front      109.1  ...   \n",
       "202       four        sedan        rwd          front      109.1  ...   \n",
       "203       four        sedan        rwd          front      109.1  ...   \n",
       "204       four        sedan        rwd          front      109.1  ...   \n",
       "\n",
       "     enginesize  fuelsystem  boreratio  stroke compressionratio horsepower  \\\n",
       "0           130        mpfi       3.47    2.68              9.0        111   \n",
       "1           130        mpfi       3.47    2.68              9.0        111   \n",
       "2           152        mpfi       2.68    3.47              9.0        154   \n",
       "3           109        mpfi       3.19    3.40             10.0        102   \n",
       "4           136        mpfi       3.19    3.40              8.0        115   \n",
       "..          ...         ...        ...     ...              ...        ...   \n",
       "200         141        mpfi       3.78    3.15              9.5        114   \n",
       "201         141        mpfi       3.78    3.15              8.7        160   \n",
       "202         173        mpfi       3.58    2.87              8.8        134   \n",
       "203         145         idi       3.01    3.40             23.0        106   \n",
       "204         141        mpfi       3.78    3.15              9.5        114   \n",
       "\n",
       "     peakrpm citympg  highwaympg    price  \n",
       "0       5000      21          27  13495.0  \n",
       "1       5000      21          27  16500.0  \n",
       "2       5000      19          26  16500.0  \n",
       "3       5500      24          30  13950.0  \n",
       "4       5500      18          22  17450.0  \n",
       "..       ...     ...         ...      ...  \n",
       "200     5400      23          28  16845.0  \n",
       "201     5300      19          25  19045.0  \n",
       "202     5500      18          23  21485.0  \n",
       "203     4800      26          27  22470.0  \n",
       "204     5400      19          25  22625.0  \n",
       "\n",
       "[205 rows x 26 columns]"
      ]
     },
     "execution_count": 3,
     "metadata": {},
     "output_type": "execute_result"
    }
   ],
   "source": [
    "df"
   ]
  },
  {
   "cell_type": "code",
   "execution_count": 4,
   "id": "e024e70f",
   "metadata": {
    "execution": {
     "iopub.execute_input": "2023-01-01T16:15:15.626051Z",
     "iopub.status.busy": "2023-01-01T16:15:15.625307Z",
     "iopub.status.idle": "2023-01-01T16:15:15.687033Z",
     "shell.execute_reply": "2023-01-01T16:15:15.686189Z"
    },
    "papermill": {
     "duration": 0.076954,
     "end_time": "2023-01-01T16:15:15.689531",
     "exception": false,
     "start_time": "2023-01-01T16:15:15.612577",
     "status": "completed"
    },
    "tags": []
   },
   "outputs": [
    {
     "data": {
      "text/html": [
       "<div>\n",
       "<style scoped>\n",
       "    .dataframe tbody tr th:only-of-type {\n",
       "        vertical-align: middle;\n",
       "    }\n",
       "\n",
       "    .dataframe tbody tr th {\n",
       "        vertical-align: top;\n",
       "    }\n",
       "\n",
       "    .dataframe thead th {\n",
       "        text-align: right;\n",
       "    }\n",
       "</style>\n",
       "<table border=\"1\" class=\"dataframe\">\n",
       "  <thead>\n",
       "    <tr style=\"text-align: right;\">\n",
       "      <th></th>\n",
       "      <th>car_ID</th>\n",
       "      <th>symboling</th>\n",
       "      <th>wheelbase</th>\n",
       "      <th>carlength</th>\n",
       "      <th>carwidth</th>\n",
       "      <th>carheight</th>\n",
       "      <th>curbweight</th>\n",
       "      <th>enginesize</th>\n",
       "      <th>boreratio</th>\n",
       "      <th>stroke</th>\n",
       "      <th>compressionratio</th>\n",
       "      <th>horsepower</th>\n",
       "      <th>peakrpm</th>\n",
       "      <th>citympg</th>\n",
       "      <th>highwaympg</th>\n",
       "      <th>price</th>\n",
       "    </tr>\n",
       "  </thead>\n",
       "  <tbody>\n",
       "    <tr>\n",
       "      <th>count</th>\n",
       "      <td>205.000000</td>\n",
       "      <td>205.000000</td>\n",
       "      <td>205.000000</td>\n",
       "      <td>205.000000</td>\n",
       "      <td>205.000000</td>\n",
       "      <td>205.000000</td>\n",
       "      <td>205.000000</td>\n",
       "      <td>205.000000</td>\n",
       "      <td>205.000000</td>\n",
       "      <td>205.000000</td>\n",
       "      <td>205.000000</td>\n",
       "      <td>205.000000</td>\n",
       "      <td>205.000000</td>\n",
       "      <td>205.000000</td>\n",
       "      <td>205.000000</td>\n",
       "      <td>205.000000</td>\n",
       "    </tr>\n",
       "    <tr>\n",
       "      <th>mean</th>\n",
       "      <td>103.000000</td>\n",
       "      <td>0.834146</td>\n",
       "      <td>98.756585</td>\n",
       "      <td>174.049268</td>\n",
       "      <td>65.907805</td>\n",
       "      <td>53.724878</td>\n",
       "      <td>2555.565854</td>\n",
       "      <td>126.907317</td>\n",
       "      <td>3.329756</td>\n",
       "      <td>3.255415</td>\n",
       "      <td>10.142537</td>\n",
       "      <td>104.117073</td>\n",
       "      <td>5125.121951</td>\n",
       "      <td>25.219512</td>\n",
       "      <td>30.751220</td>\n",
       "      <td>13276.710571</td>\n",
       "    </tr>\n",
       "    <tr>\n",
       "      <th>std</th>\n",
       "      <td>59.322565</td>\n",
       "      <td>1.245307</td>\n",
       "      <td>6.021776</td>\n",
       "      <td>12.337289</td>\n",
       "      <td>2.145204</td>\n",
       "      <td>2.443522</td>\n",
       "      <td>520.680204</td>\n",
       "      <td>41.642693</td>\n",
       "      <td>0.270844</td>\n",
       "      <td>0.313597</td>\n",
       "      <td>3.972040</td>\n",
       "      <td>39.544167</td>\n",
       "      <td>476.985643</td>\n",
       "      <td>6.542142</td>\n",
       "      <td>6.886443</td>\n",
       "      <td>7988.852332</td>\n",
       "    </tr>\n",
       "    <tr>\n",
       "      <th>min</th>\n",
       "      <td>1.000000</td>\n",
       "      <td>-2.000000</td>\n",
       "      <td>86.600000</td>\n",
       "      <td>141.100000</td>\n",
       "      <td>60.300000</td>\n",
       "      <td>47.800000</td>\n",
       "      <td>1488.000000</td>\n",
       "      <td>61.000000</td>\n",
       "      <td>2.540000</td>\n",
       "      <td>2.070000</td>\n",
       "      <td>7.000000</td>\n",
       "      <td>48.000000</td>\n",
       "      <td>4150.000000</td>\n",
       "      <td>13.000000</td>\n",
       "      <td>16.000000</td>\n",
       "      <td>5118.000000</td>\n",
       "    </tr>\n",
       "    <tr>\n",
       "      <th>25%</th>\n",
       "      <td>52.000000</td>\n",
       "      <td>0.000000</td>\n",
       "      <td>94.500000</td>\n",
       "      <td>166.300000</td>\n",
       "      <td>64.100000</td>\n",
       "      <td>52.000000</td>\n",
       "      <td>2145.000000</td>\n",
       "      <td>97.000000</td>\n",
       "      <td>3.150000</td>\n",
       "      <td>3.110000</td>\n",
       "      <td>8.600000</td>\n",
       "      <td>70.000000</td>\n",
       "      <td>4800.000000</td>\n",
       "      <td>19.000000</td>\n",
       "      <td>25.000000</td>\n",
       "      <td>7788.000000</td>\n",
       "    </tr>\n",
       "    <tr>\n",
       "      <th>50%</th>\n",
       "      <td>103.000000</td>\n",
       "      <td>1.000000</td>\n",
       "      <td>97.000000</td>\n",
       "      <td>173.200000</td>\n",
       "      <td>65.500000</td>\n",
       "      <td>54.100000</td>\n",
       "      <td>2414.000000</td>\n",
       "      <td>120.000000</td>\n",
       "      <td>3.310000</td>\n",
       "      <td>3.290000</td>\n",
       "      <td>9.000000</td>\n",
       "      <td>95.000000</td>\n",
       "      <td>5200.000000</td>\n",
       "      <td>24.000000</td>\n",
       "      <td>30.000000</td>\n",
       "      <td>10295.000000</td>\n",
       "    </tr>\n",
       "    <tr>\n",
       "      <th>75%</th>\n",
       "      <td>154.000000</td>\n",
       "      <td>2.000000</td>\n",
       "      <td>102.400000</td>\n",
       "      <td>183.100000</td>\n",
       "      <td>66.900000</td>\n",
       "      <td>55.500000</td>\n",
       "      <td>2935.000000</td>\n",
       "      <td>141.000000</td>\n",
       "      <td>3.580000</td>\n",
       "      <td>3.410000</td>\n",
       "      <td>9.400000</td>\n",
       "      <td>116.000000</td>\n",
       "      <td>5500.000000</td>\n",
       "      <td>30.000000</td>\n",
       "      <td>34.000000</td>\n",
       "      <td>16503.000000</td>\n",
       "    </tr>\n",
       "    <tr>\n",
       "      <th>max</th>\n",
       "      <td>205.000000</td>\n",
       "      <td>3.000000</td>\n",
       "      <td>120.900000</td>\n",
       "      <td>208.100000</td>\n",
       "      <td>72.300000</td>\n",
       "      <td>59.800000</td>\n",
       "      <td>4066.000000</td>\n",
       "      <td>326.000000</td>\n",
       "      <td>3.940000</td>\n",
       "      <td>4.170000</td>\n",
       "      <td>23.000000</td>\n",
       "      <td>288.000000</td>\n",
       "      <td>6600.000000</td>\n",
       "      <td>49.000000</td>\n",
       "      <td>54.000000</td>\n",
       "      <td>45400.000000</td>\n",
       "    </tr>\n",
       "  </tbody>\n",
       "</table>\n",
       "</div>"
      ],
      "text/plain": [
       "           car_ID   symboling   wheelbase   carlength    carwidth   carheight  \\\n",
       "count  205.000000  205.000000  205.000000  205.000000  205.000000  205.000000   \n",
       "mean   103.000000    0.834146   98.756585  174.049268   65.907805   53.724878   \n",
       "std     59.322565    1.245307    6.021776   12.337289    2.145204    2.443522   \n",
       "min      1.000000   -2.000000   86.600000  141.100000   60.300000   47.800000   \n",
       "25%     52.000000    0.000000   94.500000  166.300000   64.100000   52.000000   \n",
       "50%    103.000000    1.000000   97.000000  173.200000   65.500000   54.100000   \n",
       "75%    154.000000    2.000000  102.400000  183.100000   66.900000   55.500000   \n",
       "max    205.000000    3.000000  120.900000  208.100000   72.300000   59.800000   \n",
       "\n",
       "        curbweight  enginesize   boreratio      stroke  compressionratio  \\\n",
       "count   205.000000  205.000000  205.000000  205.000000        205.000000   \n",
       "mean   2555.565854  126.907317    3.329756    3.255415         10.142537   \n",
       "std     520.680204   41.642693    0.270844    0.313597          3.972040   \n",
       "min    1488.000000   61.000000    2.540000    2.070000          7.000000   \n",
       "25%    2145.000000   97.000000    3.150000    3.110000          8.600000   \n",
       "50%    2414.000000  120.000000    3.310000    3.290000          9.000000   \n",
       "75%    2935.000000  141.000000    3.580000    3.410000          9.400000   \n",
       "max    4066.000000  326.000000    3.940000    4.170000         23.000000   \n",
       "\n",
       "       horsepower      peakrpm     citympg  highwaympg         price  \n",
       "count  205.000000   205.000000  205.000000  205.000000    205.000000  \n",
       "mean   104.117073  5125.121951   25.219512   30.751220  13276.710571  \n",
       "std     39.544167   476.985643    6.542142    6.886443   7988.852332  \n",
       "min     48.000000  4150.000000   13.000000   16.000000   5118.000000  \n",
       "25%     70.000000  4800.000000   19.000000   25.000000   7788.000000  \n",
       "50%     95.000000  5200.000000   24.000000   30.000000  10295.000000  \n",
       "75%    116.000000  5500.000000   30.000000   34.000000  16503.000000  \n",
       "max    288.000000  6600.000000   49.000000   54.000000  45400.000000  "
      ]
     },
     "execution_count": 4,
     "metadata": {},
     "output_type": "execute_result"
    }
   ],
   "source": [
    "df.describe()"
   ]
  },
  {
   "cell_type": "markdown",
   "id": "eda2aa3c",
   "metadata": {
    "papermill": {
     "duration": 0.011231,
     "end_time": "2023-01-01T16:15:15.712759",
     "exception": false,
     "start_time": "2023-01-01T16:15:15.701528",
     "status": "completed"
    },
    "tags": []
   },
   "source": [
    "# Simplify The Data"
   ]
  },
  {
   "cell_type": "code",
   "execution_count": 5,
   "id": "3a9f3fa3",
   "metadata": {
    "execution": {
     "iopub.execute_input": "2023-01-01T16:15:15.738427Z",
     "iopub.status.busy": "2023-01-01T16:15:15.737993Z",
     "iopub.status.idle": "2023-01-01T16:15:15.744526Z",
     "shell.execute_reply": "2023-01-01T16:15:15.743423Z"
    },
    "papermill": {
     "duration": 0.021902,
     "end_time": "2023-01-01T16:15:15.746932",
     "exception": false,
     "start_time": "2023-01-01T16:15:15.725030",
     "status": "completed"
    },
    "tags": []
   },
   "outputs": [],
   "source": [
    "df=df.drop(columns=['car_ID','symboling','CarName','carbody'])"
   ]
  },
  {
   "cell_type": "code",
   "execution_count": 6,
   "id": "b2fd7561",
   "metadata": {
    "execution": {
     "iopub.execute_input": "2023-01-01T16:15:15.772267Z",
     "iopub.status.busy": "2023-01-01T16:15:15.771835Z",
     "iopub.status.idle": "2023-01-01T16:15:15.788592Z",
     "shell.execute_reply": "2023-01-01T16:15:15.787141Z"
    },
    "papermill": {
     "duration": 0.03296,
     "end_time": "2023-01-01T16:15:15.791172",
     "exception": false,
     "start_time": "2023-01-01T16:15:15.758212",
     "status": "completed"
    },
    "tags": []
   },
   "outputs": [
    {
     "name": "stdout",
     "output_type": "stream",
     "text": [
      "<class 'pandas.core.frame.DataFrame'>\n",
      "RangeIndex: 205 entries, 0 to 204\n",
      "Data columns (total 22 columns):\n",
      " #   Column            Non-Null Count  Dtype  \n",
      "---  ------            --------------  -----  \n",
      " 0   fueltype          205 non-null    object \n",
      " 1   aspiration        205 non-null    object \n",
      " 2   doornumber        205 non-null    object \n",
      " 3   drivewheel        205 non-null    object \n",
      " 4   enginelocation    205 non-null    object \n",
      " 5   wheelbase         205 non-null    float64\n",
      " 6   carlength         205 non-null    float64\n",
      " 7   carwidth          205 non-null    float64\n",
      " 8   carheight         205 non-null    float64\n",
      " 9   curbweight        205 non-null    int64  \n",
      " 10  enginetype        205 non-null    object \n",
      " 11  cylindernumber    205 non-null    object \n",
      " 12  enginesize        205 non-null    int64  \n",
      " 13  fuelsystem        205 non-null    object \n",
      " 14  boreratio         205 non-null    float64\n",
      " 15  stroke            205 non-null    float64\n",
      " 16  compressionratio  205 non-null    float64\n",
      " 17  horsepower        205 non-null    int64  \n",
      " 18  peakrpm           205 non-null    int64  \n",
      " 19  citympg           205 non-null    int64  \n",
      " 20  highwaympg        205 non-null    int64  \n",
      " 21  price             205 non-null    float64\n",
      "dtypes: float64(8), int64(6), object(8)\n",
      "memory usage: 35.4+ KB\n"
     ]
    }
   ],
   "source": [
    "df.info()"
   ]
  },
  {
   "cell_type": "code",
   "execution_count": 7,
   "id": "d1cf13f6",
   "metadata": {
    "execution": {
     "iopub.execute_input": "2023-01-01T16:15:15.815987Z",
     "iopub.status.busy": "2023-01-01T16:15:15.814949Z",
     "iopub.status.idle": "2023-01-01T16:15:15.824240Z",
     "shell.execute_reply": "2023-01-01T16:15:15.823107Z"
    },
    "papermill": {
     "duration": 0.023988,
     "end_time": "2023-01-01T16:15:15.826430",
     "exception": false,
     "start_time": "2023-01-01T16:15:15.802442",
     "status": "completed"
    },
    "tags": []
   },
   "outputs": [
    {
     "data": {
      "text/plain": [
       "mpfi    94\n",
       "2bbl    66\n",
       "idi     20\n",
       "1bbl    11\n",
       "spdi     9\n",
       "4bbl     3\n",
       "mfi      1\n",
       "spfi     1\n",
       "Name: fuelsystem, dtype: int64"
      ]
     },
     "execution_count": 7,
     "metadata": {},
     "output_type": "execute_result"
    }
   ],
   "source": [
    "df.fuelsystem.value_counts()"
   ]
  },
  {
   "cell_type": "code",
   "execution_count": 8,
   "id": "8aa25add",
   "metadata": {
    "execution": {
     "iopub.execute_input": "2023-01-01T16:15:15.850779Z",
     "iopub.status.busy": "2023-01-01T16:15:15.850086Z",
     "iopub.status.idle": "2023-01-01T16:15:15.856253Z",
     "shell.execute_reply": "2023-01-01T16:15:15.855145Z"
    },
    "papermill": {
     "duration": 0.020958,
     "end_time": "2023-01-01T16:15:15.858555",
     "exception": false,
     "start_time": "2023-01-01T16:15:15.837597",
     "status": "completed"
    },
    "tags": []
   },
   "outputs": [],
   "source": [
    "df=df.drop(columns=['fuelsystem'])"
   ]
  },
  {
   "cell_type": "code",
   "execution_count": 9,
   "id": "79d07f33",
   "metadata": {
    "execution": {
     "iopub.execute_input": "2023-01-01T16:15:15.882843Z",
     "iopub.status.busy": "2023-01-01T16:15:15.882472Z",
     "iopub.status.idle": "2023-01-01T16:15:15.891351Z",
     "shell.execute_reply": "2023-01-01T16:15:15.889978Z"
    },
    "papermill": {
     "duration": 0.023835,
     "end_time": "2023-01-01T16:15:15.893704",
     "exception": false,
     "start_time": "2023-01-01T16:15:15.869869",
     "status": "completed"
    },
    "tags": []
   },
   "outputs": [
    {
     "data": {
      "text/plain": [
       "ohc      148\n",
       "ohcf      15\n",
       "ohcv      13\n",
       "dohc      12\n",
       "l         12\n",
       "rotor      4\n",
       "dohcv      1\n",
       "Name: enginetype, dtype: int64"
      ]
     },
     "execution_count": 9,
     "metadata": {},
     "output_type": "execute_result"
    }
   ],
   "source": [
    "df.enginetype.value_counts()"
   ]
  },
  {
   "cell_type": "code",
   "execution_count": 10,
   "id": "ff62de47",
   "metadata": {
    "execution": {
     "iopub.execute_input": "2023-01-01T16:15:15.917972Z",
     "iopub.status.busy": "2023-01-01T16:15:15.917526Z",
     "iopub.status.idle": "2023-01-01T16:15:15.923470Z",
     "shell.execute_reply": "2023-01-01T16:15:15.922303Z"
    },
    "papermill": {
     "duration": 0.020719,
     "end_time": "2023-01-01T16:15:15.925680",
     "exception": false,
     "start_time": "2023-01-01T16:15:15.904961",
     "status": "completed"
    },
    "tags": []
   },
   "outputs": [],
   "source": [
    "df=df.drop(columns=['enginetype'])"
   ]
  },
  {
   "cell_type": "code",
   "execution_count": 11,
   "id": "b5fb794d",
   "metadata": {
    "execution": {
     "iopub.execute_input": "2023-01-01T16:15:15.950530Z",
     "iopub.status.busy": "2023-01-01T16:15:15.949831Z",
     "iopub.status.idle": "2023-01-01T16:15:15.957057Z",
     "shell.execute_reply": "2023-01-01T16:15:15.956308Z"
    },
    "papermill": {
     "duration": 0.0218,
     "end_time": "2023-01-01T16:15:15.958937",
     "exception": false,
     "start_time": "2023-01-01T16:15:15.937137",
     "status": "completed"
    },
    "tags": []
   },
   "outputs": [
    {
     "data": {
      "text/plain": [
       "four      159\n",
       "six        24\n",
       "five       11\n",
       "eight       5\n",
       "two         4\n",
       "three       1\n",
       "twelve      1\n",
       "Name: cylindernumber, dtype: int64"
      ]
     },
     "execution_count": 11,
     "metadata": {},
     "output_type": "execute_result"
    }
   ],
   "source": [
    "df.cylindernumber.value_counts()"
   ]
  },
  {
   "cell_type": "code",
   "execution_count": 12,
   "id": "b7525aa2",
   "metadata": {
    "execution": {
     "iopub.execute_input": "2023-01-01T16:15:15.983673Z",
     "iopub.status.busy": "2023-01-01T16:15:15.983002Z",
     "iopub.status.idle": "2023-01-01T16:15:15.988133Z",
     "shell.execute_reply": "2023-01-01T16:15:15.987373Z"
    },
    "papermill": {
     "duration": 0.019933,
     "end_time": "2023-01-01T16:15:15.990185",
     "exception": false,
     "start_time": "2023-01-01T16:15:15.970252",
     "status": "completed"
    },
    "tags": []
   },
   "outputs": [],
   "source": [
    "df=df.drop(columns=['cylindernumber'])"
   ]
  },
  {
   "cell_type": "code",
   "execution_count": 13,
   "id": "6262728a",
   "metadata": {
    "execution": {
     "iopub.execute_input": "2023-01-01T16:15:16.015128Z",
     "iopub.status.busy": "2023-01-01T16:15:16.014414Z",
     "iopub.status.idle": "2023-01-01T16:15:16.022514Z",
     "shell.execute_reply": "2023-01-01T16:15:16.021495Z"
    },
    "papermill": {
     "duration": 0.023106,
     "end_time": "2023-01-01T16:15:16.024667",
     "exception": false,
     "start_time": "2023-01-01T16:15:16.001561",
     "status": "completed"
    },
    "tags": []
   },
   "outputs": [
    {
     "data": {
      "text/plain": [
       "four    115\n",
       "two      90\n",
       "Name: doornumber, dtype: int64"
      ]
     },
     "execution_count": 13,
     "metadata": {},
     "output_type": "execute_result"
    }
   ],
   "source": [
    "df.doornumber.value_counts()"
   ]
  },
  {
   "cell_type": "code",
   "execution_count": 14,
   "id": "e43fdb2e",
   "metadata": {
    "execution": {
     "iopub.execute_input": "2023-01-01T16:15:16.049243Z",
     "iopub.status.busy": "2023-01-01T16:15:16.048833Z",
     "iopub.status.idle": "2023-01-01T16:15:16.119510Z",
     "shell.execute_reply": "2023-01-01T16:15:16.118358Z"
    },
    "papermill": {
     "duration": 0.085946,
     "end_time": "2023-01-01T16:15:16.122249",
     "exception": false,
     "start_time": "2023-01-01T16:15:16.036303",
     "status": "completed"
    },
    "tags": []
   },
   "outputs": [
    {
     "name": "stderr",
     "output_type": "stream",
     "text": [
      "/opt/conda/lib/python3.7/site-packages/ipykernel_launcher.py:3: SettingWithCopyWarning: \n",
      "A value is trying to be set on a copy of a slice from a DataFrame\n",
      "\n",
      "See the caveats in the documentation: https://pandas.pydata.org/pandas-docs/stable/user_guide/indexing.html#returning-a-view-versus-a-copy\n",
      "  This is separate from the ipykernel package so we can avoid doing imports until\n",
      "/opt/conda/lib/python3.7/site-packages/ipykernel_launcher.py:5: SettingWithCopyWarning: \n",
      "A value is trying to be set on a copy of a slice from a DataFrame\n",
      "\n",
      "See the caveats in the documentation: https://pandas.pydata.org/pandas-docs/stable/user_guide/indexing.html#returning-a-view-versus-a-copy\n",
      "  \"\"\"\n"
     ]
    }
   ],
   "source": [
    "for i in range(0,205):\n",
    "    if df['doornumber'][i]==\"two\":\n",
    "        df['doornumber'][i]=1\n",
    "    else:\n",
    "        df['doornumber'][i]=0"
   ]
  },
  {
   "cell_type": "code",
   "execution_count": 15,
   "id": "644d7060",
   "metadata": {
    "execution": {
     "iopub.execute_input": "2023-01-01T16:15:16.147753Z",
     "iopub.status.busy": "2023-01-01T16:15:16.147345Z",
     "iopub.status.idle": "2023-01-01T16:15:16.155636Z",
     "shell.execute_reply": "2023-01-01T16:15:16.154477Z"
    },
    "papermill": {
     "duration": 0.024013,
     "end_time": "2023-01-01T16:15:16.157890",
     "exception": false,
     "start_time": "2023-01-01T16:15:16.133877",
     "status": "completed"
    },
    "tags": []
   },
   "outputs": [
    {
     "data": {
      "text/plain": [
       "0      1\n",
       "1      1\n",
       "2      1\n",
       "3      0\n",
       "4      0\n",
       "      ..\n",
       "200    0\n",
       "201    0\n",
       "202    0\n",
       "203    0\n",
       "204    0\n",
       "Name: doornumber, Length: 205, dtype: object"
      ]
     },
     "execution_count": 15,
     "metadata": {},
     "output_type": "execute_result"
    }
   ],
   "source": [
    "df['doornumber']"
   ]
  },
  {
   "cell_type": "code",
   "execution_count": 16,
   "id": "54634340",
   "metadata": {
    "execution": {
     "iopub.execute_input": "2023-01-01T16:15:16.184339Z",
     "iopub.status.busy": "2023-01-01T16:15:16.183132Z",
     "iopub.status.idle": "2023-01-01T16:15:16.192501Z",
     "shell.execute_reply": "2023-01-01T16:15:16.191238Z"
    },
    "papermill": {
     "duration": 0.025115,
     "end_time": "2023-01-01T16:15:16.194827",
     "exception": false,
     "start_time": "2023-01-01T16:15:16.169712",
     "status": "completed"
    },
    "tags": []
   },
   "outputs": [
    {
     "data": {
      "text/plain": [
       "front    202\n",
       "rear       3\n",
       "Name: enginelocation, dtype: int64"
      ]
     },
     "execution_count": 16,
     "metadata": {},
     "output_type": "execute_result"
    }
   ],
   "source": [
    "df.enginelocation.value_counts()"
   ]
  },
  {
   "cell_type": "code",
   "execution_count": 17,
   "id": "b1fc5848",
   "metadata": {
    "execution": {
     "iopub.execute_input": "2023-01-01T16:15:16.220970Z",
     "iopub.status.busy": "2023-01-01T16:15:16.220517Z",
     "iopub.status.idle": "2023-01-01T16:15:16.302453Z",
     "shell.execute_reply": "2023-01-01T16:15:16.301319Z"
    },
    "papermill": {
     "duration": 0.09841,
     "end_time": "2023-01-01T16:15:16.305825",
     "exception": false,
     "start_time": "2023-01-01T16:15:16.207415",
     "status": "completed"
    },
    "tags": []
   },
   "outputs": [
    {
     "name": "stderr",
     "output_type": "stream",
     "text": [
      "/opt/conda/lib/python3.7/site-packages/ipykernel_launcher.py:3: SettingWithCopyWarning: \n",
      "A value is trying to be set on a copy of a slice from a DataFrame\n",
      "\n",
      "See the caveats in the documentation: https://pandas.pydata.org/pandas-docs/stable/user_guide/indexing.html#returning-a-view-versus-a-copy\n",
      "  This is separate from the ipykernel package so we can avoid doing imports until\n",
      "/opt/conda/lib/python3.7/site-packages/ipykernel_launcher.py:5: SettingWithCopyWarning: \n",
      "A value is trying to be set on a copy of a slice from a DataFrame\n",
      "\n",
      "See the caveats in the documentation: https://pandas.pydata.org/pandas-docs/stable/user_guide/indexing.html#returning-a-view-versus-a-copy\n",
      "  \"\"\"\n"
     ]
    }
   ],
   "source": [
    "for i in range(0,205):\n",
    "    if df['enginelocation'][i]==\"front\":\n",
    "        df['enginelocation'][i]=1\n",
    "    else:\n",
    "        df['enginelocation'][i]=0"
   ]
  },
  {
   "cell_type": "code",
   "execution_count": 18,
   "id": "3422dcf5",
   "metadata": {
    "execution": {
     "iopub.execute_input": "2023-01-01T16:15:16.333548Z",
     "iopub.status.busy": "2023-01-01T16:15:16.333113Z",
     "iopub.status.idle": "2023-01-01T16:15:16.341844Z",
     "shell.execute_reply": "2023-01-01T16:15:16.340537Z"
    },
    "papermill": {
     "duration": 0.024919,
     "end_time": "2023-01-01T16:15:16.344227",
     "exception": false,
     "start_time": "2023-01-01T16:15:16.319308",
     "status": "completed"
    },
    "tags": []
   },
   "outputs": [
    {
     "data": {
      "text/plain": [
       "0      1\n",
       "1      1\n",
       "2      1\n",
       "3      1\n",
       "4      1\n",
       "      ..\n",
       "200    1\n",
       "201    1\n",
       "202    1\n",
       "203    1\n",
       "204    1\n",
       "Name: enginelocation, Length: 205, dtype: object"
      ]
     },
     "execution_count": 18,
     "metadata": {},
     "output_type": "execute_result"
    }
   ],
   "source": [
    "df['enginelocation']"
   ]
  },
  {
   "cell_type": "code",
   "execution_count": 19,
   "id": "0282a66c",
   "metadata": {
    "execution": {
     "iopub.execute_input": "2023-01-01T16:15:16.371223Z",
     "iopub.status.busy": "2023-01-01T16:15:16.370617Z",
     "iopub.status.idle": "2023-01-01T16:15:16.379569Z",
     "shell.execute_reply": "2023-01-01T16:15:16.378361Z"
    },
    "papermill": {
     "duration": 0.025051,
     "end_time": "2023-01-01T16:15:16.381830",
     "exception": false,
     "start_time": "2023-01-01T16:15:16.356779",
     "status": "completed"
    },
    "tags": []
   },
   "outputs": [
    {
     "data": {
      "text/plain": [
       "gas       185\n",
       "diesel     20\n",
       "Name: fueltype, dtype: int64"
      ]
     },
     "execution_count": 19,
     "metadata": {},
     "output_type": "execute_result"
    }
   ],
   "source": [
    "df.fueltype.value_counts()"
   ]
  },
  {
   "cell_type": "code",
   "execution_count": 20,
   "id": "de0eae68",
   "metadata": {
    "execution": {
     "iopub.execute_input": "2023-01-01T16:15:16.408368Z",
     "iopub.status.busy": "2023-01-01T16:15:16.407950Z",
     "iopub.status.idle": "2023-01-01T16:15:16.417143Z",
     "shell.execute_reply": "2023-01-01T16:15:16.415975Z"
    },
    "papermill": {
     "duration": 0.025146,
     "end_time": "2023-01-01T16:15:16.419524",
     "exception": false,
     "start_time": "2023-01-01T16:15:16.394378",
     "status": "completed"
    },
    "tags": []
   },
   "outputs": [
    {
     "data": {
      "text/plain": [
       "0         gas\n",
       "1         gas\n",
       "2         gas\n",
       "3         gas\n",
       "4         gas\n",
       "        ...  \n",
       "200       gas\n",
       "201       gas\n",
       "202       gas\n",
       "203    diesel\n",
       "204       gas\n",
       "Name: fueltype, Length: 205, dtype: object"
      ]
     },
     "execution_count": 20,
     "metadata": {},
     "output_type": "execute_result"
    }
   ],
   "source": [
    "df['fueltype']"
   ]
  },
  {
   "cell_type": "code",
   "execution_count": 21,
   "id": "f628fdc7",
   "metadata": {
    "execution": {
     "iopub.execute_input": "2023-01-01T16:15:16.446010Z",
     "iopub.status.busy": "2023-01-01T16:15:16.445571Z",
     "iopub.status.idle": "2023-01-01T16:15:16.515869Z",
     "shell.execute_reply": "2023-01-01T16:15:16.514732Z"
    },
    "papermill": {
     "duration": 0.086734,
     "end_time": "2023-01-01T16:15:16.518605",
     "exception": false,
     "start_time": "2023-01-01T16:15:16.431871",
     "status": "completed"
    },
    "tags": []
   },
   "outputs": [
    {
     "name": "stderr",
     "output_type": "stream",
     "text": [
      "/opt/conda/lib/python3.7/site-packages/ipykernel_launcher.py:3: SettingWithCopyWarning: \n",
      "A value is trying to be set on a copy of a slice from a DataFrame\n",
      "\n",
      "See the caveats in the documentation: https://pandas.pydata.org/pandas-docs/stable/user_guide/indexing.html#returning-a-view-versus-a-copy\n",
      "  This is separate from the ipykernel package so we can avoid doing imports until\n",
      "/opt/conda/lib/python3.7/site-packages/ipykernel_launcher.py:5: SettingWithCopyWarning: \n",
      "A value is trying to be set on a copy of a slice from a DataFrame\n",
      "\n",
      "See the caveats in the documentation: https://pandas.pydata.org/pandas-docs/stable/user_guide/indexing.html#returning-a-view-versus-a-copy\n",
      "  \"\"\"\n"
     ]
    }
   ],
   "source": [
    "for i in range(0,205):\n",
    "    if df['fueltype'][i]==\"gas\":\n",
    "        df['fueltype'][i]=1\n",
    "    else:\n",
    "        df['fueltype'][i]=0"
   ]
  },
  {
   "cell_type": "code",
   "execution_count": 22,
   "id": "99d67dc1",
   "metadata": {
    "execution": {
     "iopub.execute_input": "2023-01-01T16:15:16.545001Z",
     "iopub.status.busy": "2023-01-01T16:15:16.544579Z",
     "iopub.status.idle": "2023-01-01T16:15:16.553535Z",
     "shell.execute_reply": "2023-01-01T16:15:16.552304Z"
    },
    "papermill": {
     "duration": 0.025047,
     "end_time": "2023-01-01T16:15:16.556100",
     "exception": false,
     "start_time": "2023-01-01T16:15:16.531053",
     "status": "completed"
    },
    "tags": []
   },
   "outputs": [
    {
     "data": {
      "text/plain": [
       "std      168\n",
       "turbo     37\n",
       "Name: aspiration, dtype: int64"
      ]
     },
     "execution_count": 22,
     "metadata": {},
     "output_type": "execute_result"
    }
   ],
   "source": [
    "df.aspiration.value_counts()"
   ]
  },
  {
   "cell_type": "code",
   "execution_count": 23,
   "id": "919d140e",
   "metadata": {
    "execution": {
     "iopub.execute_input": "2023-01-01T16:15:16.582924Z",
     "iopub.status.busy": "2023-01-01T16:15:16.582476Z",
     "iopub.status.idle": "2023-01-01T16:15:16.652480Z",
     "shell.execute_reply": "2023-01-01T16:15:16.651166Z"
    },
    "papermill": {
     "duration": 0.08679,
     "end_time": "2023-01-01T16:15:16.655652",
     "exception": false,
     "start_time": "2023-01-01T16:15:16.568862",
     "status": "completed"
    },
    "tags": []
   },
   "outputs": [
    {
     "name": "stderr",
     "output_type": "stream",
     "text": [
      "/opt/conda/lib/python3.7/site-packages/ipykernel_launcher.py:3: SettingWithCopyWarning: \n",
      "A value is trying to be set on a copy of a slice from a DataFrame\n",
      "\n",
      "See the caveats in the documentation: https://pandas.pydata.org/pandas-docs/stable/user_guide/indexing.html#returning-a-view-versus-a-copy\n",
      "  This is separate from the ipykernel package so we can avoid doing imports until\n",
      "/opt/conda/lib/python3.7/site-packages/ipykernel_launcher.py:5: SettingWithCopyWarning: \n",
      "A value is trying to be set on a copy of a slice from a DataFrame\n",
      "\n",
      "See the caveats in the documentation: https://pandas.pydata.org/pandas-docs/stable/user_guide/indexing.html#returning-a-view-versus-a-copy\n",
      "  \"\"\"\n"
     ]
    }
   ],
   "source": [
    "for i in range(0,205):\n",
    "    if df['aspiration'][i]==\"std\":\n",
    "        df['aspiration'][i]=1\n",
    "    else:\n",
    "        df['aspiration'][i]=0"
   ]
  },
  {
   "cell_type": "code",
   "execution_count": 24,
   "id": "57d9f65a",
   "metadata": {
    "execution": {
     "iopub.execute_input": "2023-01-01T16:15:16.683216Z",
     "iopub.status.busy": "2023-01-01T16:15:16.682761Z",
     "iopub.status.idle": "2023-01-01T16:15:16.692037Z",
     "shell.execute_reply": "2023-01-01T16:15:16.690844Z"
    },
    "papermill": {
     "duration": 0.02585,
     "end_time": "2023-01-01T16:15:16.694262",
     "exception": false,
     "start_time": "2023-01-01T16:15:16.668412",
     "status": "completed"
    },
    "tags": []
   },
   "outputs": [
    {
     "data": {
      "text/plain": [
       "fwd    120\n",
       "rwd     76\n",
       "4wd      9\n",
       "Name: drivewheel, dtype: int64"
      ]
     },
     "execution_count": 24,
     "metadata": {},
     "output_type": "execute_result"
    }
   ],
   "source": [
    "df.drivewheel.value_counts()"
   ]
  },
  {
   "cell_type": "code",
   "execution_count": 25,
   "id": "fe579140",
   "metadata": {
    "execution": {
     "iopub.execute_input": "2023-01-01T16:15:16.721674Z",
     "iopub.status.busy": "2023-01-01T16:15:16.720881Z",
     "iopub.status.idle": "2023-01-01T16:15:16.727018Z",
     "shell.execute_reply": "2023-01-01T16:15:16.725988Z"
    },
    "papermill": {
     "duration": 0.022381,
     "end_time": "2023-01-01T16:15:16.729353",
     "exception": false,
     "start_time": "2023-01-01T16:15:16.706972",
     "status": "completed"
    },
    "tags": []
   },
   "outputs": [],
   "source": [
    "df=df.drop(columns=['drivewheel'])"
   ]
  },
  {
   "cell_type": "markdown",
   "id": "2c2b735b",
   "metadata": {
    "papermill": {
     "duration": 0.012074,
     "end_time": "2023-01-01T16:15:16.753763",
     "exception": false,
     "start_time": "2023-01-01T16:15:16.741689",
     "status": "completed"
    },
    "tags": []
   },
   "source": [
    "# collect Numerical Columns to Train The Model"
   ]
  },
  {
   "cell_type": "code",
   "execution_count": 26,
   "id": "b0d21fa5",
   "metadata": {
    "execution": {
     "iopub.execute_input": "2023-01-01T16:15:16.780196Z",
     "iopub.status.busy": "2023-01-01T16:15:16.779777Z",
     "iopub.status.idle": "2023-01-01T16:15:16.805058Z",
     "shell.execute_reply": "2023-01-01T16:15:16.804258Z"
    },
    "papermill": {
     "duration": 0.040842,
     "end_time": "2023-01-01T16:15:16.807045",
     "exception": false,
     "start_time": "2023-01-01T16:15:16.766203",
     "status": "completed"
    },
    "tags": []
   },
   "outputs": [
    {
     "data": {
      "text/html": [
       "<div>\n",
       "<style scoped>\n",
       "    .dataframe tbody tr th:only-of-type {\n",
       "        vertical-align: middle;\n",
       "    }\n",
       "\n",
       "    .dataframe tbody tr th {\n",
       "        vertical-align: top;\n",
       "    }\n",
       "\n",
       "    .dataframe thead th {\n",
       "        text-align: right;\n",
       "    }\n",
       "</style>\n",
       "<table border=\"1\" class=\"dataframe\">\n",
       "  <thead>\n",
       "    <tr style=\"text-align: right;\">\n",
       "      <th></th>\n",
       "      <th>fueltype</th>\n",
       "      <th>aspiration</th>\n",
       "      <th>doornumber</th>\n",
       "      <th>enginelocation</th>\n",
       "      <th>wheelbase</th>\n",
       "      <th>carlength</th>\n",
       "      <th>carwidth</th>\n",
       "      <th>carheight</th>\n",
       "      <th>curbweight</th>\n",
       "      <th>enginesize</th>\n",
       "      <th>boreratio</th>\n",
       "      <th>stroke</th>\n",
       "      <th>compressionratio</th>\n",
       "      <th>horsepower</th>\n",
       "      <th>peakrpm</th>\n",
       "      <th>citympg</th>\n",
       "      <th>highwaympg</th>\n",
       "      <th>price</th>\n",
       "    </tr>\n",
       "  </thead>\n",
       "  <tbody>\n",
       "    <tr>\n",
       "      <th>0</th>\n",
       "      <td>1</td>\n",
       "      <td>1</td>\n",
       "      <td>1</td>\n",
       "      <td>1</td>\n",
       "      <td>88.6</td>\n",
       "      <td>168.8</td>\n",
       "      <td>64.1</td>\n",
       "      <td>48.8</td>\n",
       "      <td>2548</td>\n",
       "      <td>130</td>\n",
       "      <td>3.47</td>\n",
       "      <td>2.68</td>\n",
       "      <td>9.0</td>\n",
       "      <td>111</td>\n",
       "      <td>5000</td>\n",
       "      <td>21</td>\n",
       "      <td>27</td>\n",
       "      <td>13495.000</td>\n",
       "    </tr>\n",
       "    <tr>\n",
       "      <th>1</th>\n",
       "      <td>1</td>\n",
       "      <td>1</td>\n",
       "      <td>1</td>\n",
       "      <td>1</td>\n",
       "      <td>88.6</td>\n",
       "      <td>168.8</td>\n",
       "      <td>64.1</td>\n",
       "      <td>48.8</td>\n",
       "      <td>2548</td>\n",
       "      <td>130</td>\n",
       "      <td>3.47</td>\n",
       "      <td>2.68</td>\n",
       "      <td>9.0</td>\n",
       "      <td>111</td>\n",
       "      <td>5000</td>\n",
       "      <td>21</td>\n",
       "      <td>27</td>\n",
       "      <td>16500.000</td>\n",
       "    </tr>\n",
       "    <tr>\n",
       "      <th>2</th>\n",
       "      <td>1</td>\n",
       "      <td>1</td>\n",
       "      <td>1</td>\n",
       "      <td>1</td>\n",
       "      <td>94.5</td>\n",
       "      <td>171.2</td>\n",
       "      <td>65.5</td>\n",
       "      <td>52.4</td>\n",
       "      <td>2823</td>\n",
       "      <td>152</td>\n",
       "      <td>2.68</td>\n",
       "      <td>3.47</td>\n",
       "      <td>9.0</td>\n",
       "      <td>154</td>\n",
       "      <td>5000</td>\n",
       "      <td>19</td>\n",
       "      <td>26</td>\n",
       "      <td>16500.000</td>\n",
       "    </tr>\n",
       "    <tr>\n",
       "      <th>3</th>\n",
       "      <td>1</td>\n",
       "      <td>1</td>\n",
       "      <td>0</td>\n",
       "      <td>1</td>\n",
       "      <td>99.8</td>\n",
       "      <td>176.6</td>\n",
       "      <td>66.2</td>\n",
       "      <td>54.3</td>\n",
       "      <td>2337</td>\n",
       "      <td>109</td>\n",
       "      <td>3.19</td>\n",
       "      <td>3.40</td>\n",
       "      <td>10.0</td>\n",
       "      <td>102</td>\n",
       "      <td>5500</td>\n",
       "      <td>24</td>\n",
       "      <td>30</td>\n",
       "      <td>13950.000</td>\n",
       "    </tr>\n",
       "    <tr>\n",
       "      <th>4</th>\n",
       "      <td>1</td>\n",
       "      <td>1</td>\n",
       "      <td>0</td>\n",
       "      <td>1</td>\n",
       "      <td>99.4</td>\n",
       "      <td>176.6</td>\n",
       "      <td>66.4</td>\n",
       "      <td>54.3</td>\n",
       "      <td>2824</td>\n",
       "      <td>136</td>\n",
       "      <td>3.19</td>\n",
       "      <td>3.40</td>\n",
       "      <td>8.0</td>\n",
       "      <td>115</td>\n",
       "      <td>5500</td>\n",
       "      <td>18</td>\n",
       "      <td>22</td>\n",
       "      <td>17450.000</td>\n",
       "    </tr>\n",
       "    <tr>\n",
       "      <th>5</th>\n",
       "      <td>1</td>\n",
       "      <td>1</td>\n",
       "      <td>1</td>\n",
       "      <td>1</td>\n",
       "      <td>99.8</td>\n",
       "      <td>177.3</td>\n",
       "      <td>66.3</td>\n",
       "      <td>53.1</td>\n",
       "      <td>2507</td>\n",
       "      <td>136</td>\n",
       "      <td>3.19</td>\n",
       "      <td>3.40</td>\n",
       "      <td>8.5</td>\n",
       "      <td>110</td>\n",
       "      <td>5500</td>\n",
       "      <td>19</td>\n",
       "      <td>25</td>\n",
       "      <td>15250.000</td>\n",
       "    </tr>\n",
       "    <tr>\n",
       "      <th>6</th>\n",
       "      <td>1</td>\n",
       "      <td>1</td>\n",
       "      <td>0</td>\n",
       "      <td>1</td>\n",
       "      <td>105.8</td>\n",
       "      <td>192.7</td>\n",
       "      <td>71.4</td>\n",
       "      <td>55.7</td>\n",
       "      <td>2844</td>\n",
       "      <td>136</td>\n",
       "      <td>3.19</td>\n",
       "      <td>3.40</td>\n",
       "      <td>8.5</td>\n",
       "      <td>110</td>\n",
       "      <td>5500</td>\n",
       "      <td>19</td>\n",
       "      <td>25</td>\n",
       "      <td>17710.000</td>\n",
       "    </tr>\n",
       "    <tr>\n",
       "      <th>7</th>\n",
       "      <td>1</td>\n",
       "      <td>1</td>\n",
       "      <td>0</td>\n",
       "      <td>1</td>\n",
       "      <td>105.8</td>\n",
       "      <td>192.7</td>\n",
       "      <td>71.4</td>\n",
       "      <td>55.7</td>\n",
       "      <td>2954</td>\n",
       "      <td>136</td>\n",
       "      <td>3.19</td>\n",
       "      <td>3.40</td>\n",
       "      <td>8.5</td>\n",
       "      <td>110</td>\n",
       "      <td>5500</td>\n",
       "      <td>19</td>\n",
       "      <td>25</td>\n",
       "      <td>18920.000</td>\n",
       "    </tr>\n",
       "    <tr>\n",
       "      <th>8</th>\n",
       "      <td>1</td>\n",
       "      <td>0</td>\n",
       "      <td>0</td>\n",
       "      <td>1</td>\n",
       "      <td>105.8</td>\n",
       "      <td>192.7</td>\n",
       "      <td>71.4</td>\n",
       "      <td>55.9</td>\n",
       "      <td>3086</td>\n",
       "      <td>131</td>\n",
       "      <td>3.13</td>\n",
       "      <td>3.40</td>\n",
       "      <td>8.3</td>\n",
       "      <td>140</td>\n",
       "      <td>5500</td>\n",
       "      <td>17</td>\n",
       "      <td>20</td>\n",
       "      <td>23875.000</td>\n",
       "    </tr>\n",
       "    <tr>\n",
       "      <th>9</th>\n",
       "      <td>1</td>\n",
       "      <td>0</td>\n",
       "      <td>1</td>\n",
       "      <td>1</td>\n",
       "      <td>99.5</td>\n",
       "      <td>178.2</td>\n",
       "      <td>67.9</td>\n",
       "      <td>52.0</td>\n",
       "      <td>3053</td>\n",
       "      <td>131</td>\n",
       "      <td>3.13</td>\n",
       "      <td>3.40</td>\n",
       "      <td>7.0</td>\n",
       "      <td>160</td>\n",
       "      <td>5500</td>\n",
       "      <td>16</td>\n",
       "      <td>22</td>\n",
       "      <td>17859.167</td>\n",
       "    </tr>\n",
       "  </tbody>\n",
       "</table>\n",
       "</div>"
      ],
      "text/plain": [
       "  fueltype aspiration doornumber enginelocation  wheelbase  carlength  \\\n",
       "0        1          1          1              1       88.6      168.8   \n",
       "1        1          1          1              1       88.6      168.8   \n",
       "2        1          1          1              1       94.5      171.2   \n",
       "3        1          1          0              1       99.8      176.6   \n",
       "4        1          1          0              1       99.4      176.6   \n",
       "5        1          1          1              1       99.8      177.3   \n",
       "6        1          1          0              1      105.8      192.7   \n",
       "7        1          1          0              1      105.8      192.7   \n",
       "8        1          0          0              1      105.8      192.7   \n",
       "9        1          0          1              1       99.5      178.2   \n",
       "\n",
       "   carwidth  carheight  curbweight  enginesize  boreratio  stroke  \\\n",
       "0      64.1       48.8        2548         130       3.47    2.68   \n",
       "1      64.1       48.8        2548         130       3.47    2.68   \n",
       "2      65.5       52.4        2823         152       2.68    3.47   \n",
       "3      66.2       54.3        2337         109       3.19    3.40   \n",
       "4      66.4       54.3        2824         136       3.19    3.40   \n",
       "5      66.3       53.1        2507         136       3.19    3.40   \n",
       "6      71.4       55.7        2844         136       3.19    3.40   \n",
       "7      71.4       55.7        2954         136       3.19    3.40   \n",
       "8      71.4       55.9        3086         131       3.13    3.40   \n",
       "9      67.9       52.0        3053         131       3.13    3.40   \n",
       "\n",
       "   compressionratio  horsepower  peakrpm  citympg  highwaympg      price  \n",
       "0               9.0         111     5000       21          27  13495.000  \n",
       "1               9.0         111     5000       21          27  16500.000  \n",
       "2               9.0         154     5000       19          26  16500.000  \n",
       "3              10.0         102     5500       24          30  13950.000  \n",
       "4               8.0         115     5500       18          22  17450.000  \n",
       "5               8.5         110     5500       19          25  15250.000  \n",
       "6               8.5         110     5500       19          25  17710.000  \n",
       "7               8.5         110     5500       19          25  18920.000  \n",
       "8               8.3         140     5500       17          20  23875.000  \n",
       "9               7.0         160     5500       16          22  17859.167  "
      ]
     },
     "execution_count": 26,
     "metadata": {},
     "output_type": "execute_result"
    }
   ],
   "source": [
    "df.head(10)"
   ]
  },
  {
   "cell_type": "code",
   "execution_count": 27,
   "id": "48337be8",
   "metadata": {
    "execution": {
     "iopub.execute_input": "2023-01-01T16:15:16.834922Z",
     "iopub.status.busy": "2023-01-01T16:15:16.834506Z",
     "iopub.status.idle": "2023-01-01T16:15:16.839411Z",
     "shell.execute_reply": "2023-01-01T16:15:16.838580Z"
    },
    "papermill": {
     "duration": 0.021295,
     "end_time": "2023-01-01T16:15:16.841291",
     "exception": false,
     "start_time": "2023-01-01T16:15:16.819996",
     "status": "completed"
    },
    "tags": []
   },
   "outputs": [],
   "source": [
    "x=df.iloc[:,0:-1]"
   ]
  },
  {
   "cell_type": "code",
   "execution_count": 28,
   "id": "647a7125",
   "metadata": {
    "execution": {
     "iopub.execute_input": "2023-01-01T16:15:16.869786Z",
     "iopub.status.busy": "2023-01-01T16:15:16.869079Z",
     "iopub.status.idle": "2023-01-01T16:15:16.896332Z",
     "shell.execute_reply": "2023-01-01T16:15:16.895207Z"
    },
    "papermill": {
     "duration": 0.044035,
     "end_time": "2023-01-01T16:15:16.898807",
     "exception": false,
     "start_time": "2023-01-01T16:15:16.854772",
     "status": "completed"
    },
    "tags": []
   },
   "outputs": [
    {
     "data": {
      "text/html": [
       "<div>\n",
       "<style scoped>\n",
       "    .dataframe tbody tr th:only-of-type {\n",
       "        vertical-align: middle;\n",
       "    }\n",
       "\n",
       "    .dataframe tbody tr th {\n",
       "        vertical-align: top;\n",
       "    }\n",
       "\n",
       "    .dataframe thead th {\n",
       "        text-align: right;\n",
       "    }\n",
       "</style>\n",
       "<table border=\"1\" class=\"dataframe\">\n",
       "  <thead>\n",
       "    <tr style=\"text-align: right;\">\n",
       "      <th></th>\n",
       "      <th>fueltype</th>\n",
       "      <th>aspiration</th>\n",
       "      <th>doornumber</th>\n",
       "      <th>enginelocation</th>\n",
       "      <th>wheelbase</th>\n",
       "      <th>carlength</th>\n",
       "      <th>carwidth</th>\n",
       "      <th>carheight</th>\n",
       "      <th>curbweight</th>\n",
       "      <th>enginesize</th>\n",
       "      <th>boreratio</th>\n",
       "      <th>stroke</th>\n",
       "      <th>compressionratio</th>\n",
       "      <th>horsepower</th>\n",
       "      <th>peakrpm</th>\n",
       "      <th>citympg</th>\n",
       "      <th>highwaympg</th>\n",
       "    </tr>\n",
       "  </thead>\n",
       "  <tbody>\n",
       "    <tr>\n",
       "      <th>0</th>\n",
       "      <td>1</td>\n",
       "      <td>1</td>\n",
       "      <td>1</td>\n",
       "      <td>1</td>\n",
       "      <td>88.6</td>\n",
       "      <td>168.8</td>\n",
       "      <td>64.1</td>\n",
       "      <td>48.8</td>\n",
       "      <td>2548</td>\n",
       "      <td>130</td>\n",
       "      <td>3.47</td>\n",
       "      <td>2.68</td>\n",
       "      <td>9.0</td>\n",
       "      <td>111</td>\n",
       "      <td>5000</td>\n",
       "      <td>21</td>\n",
       "      <td>27</td>\n",
       "    </tr>\n",
       "    <tr>\n",
       "      <th>1</th>\n",
       "      <td>1</td>\n",
       "      <td>1</td>\n",
       "      <td>1</td>\n",
       "      <td>1</td>\n",
       "      <td>88.6</td>\n",
       "      <td>168.8</td>\n",
       "      <td>64.1</td>\n",
       "      <td>48.8</td>\n",
       "      <td>2548</td>\n",
       "      <td>130</td>\n",
       "      <td>3.47</td>\n",
       "      <td>2.68</td>\n",
       "      <td>9.0</td>\n",
       "      <td>111</td>\n",
       "      <td>5000</td>\n",
       "      <td>21</td>\n",
       "      <td>27</td>\n",
       "    </tr>\n",
       "    <tr>\n",
       "      <th>2</th>\n",
       "      <td>1</td>\n",
       "      <td>1</td>\n",
       "      <td>1</td>\n",
       "      <td>1</td>\n",
       "      <td>94.5</td>\n",
       "      <td>171.2</td>\n",
       "      <td>65.5</td>\n",
       "      <td>52.4</td>\n",
       "      <td>2823</td>\n",
       "      <td>152</td>\n",
       "      <td>2.68</td>\n",
       "      <td>3.47</td>\n",
       "      <td>9.0</td>\n",
       "      <td>154</td>\n",
       "      <td>5000</td>\n",
       "      <td>19</td>\n",
       "      <td>26</td>\n",
       "    </tr>\n",
       "    <tr>\n",
       "      <th>3</th>\n",
       "      <td>1</td>\n",
       "      <td>1</td>\n",
       "      <td>0</td>\n",
       "      <td>1</td>\n",
       "      <td>99.8</td>\n",
       "      <td>176.6</td>\n",
       "      <td>66.2</td>\n",
       "      <td>54.3</td>\n",
       "      <td>2337</td>\n",
       "      <td>109</td>\n",
       "      <td>3.19</td>\n",
       "      <td>3.40</td>\n",
       "      <td>10.0</td>\n",
       "      <td>102</td>\n",
       "      <td>5500</td>\n",
       "      <td>24</td>\n",
       "      <td>30</td>\n",
       "    </tr>\n",
       "    <tr>\n",
       "      <th>4</th>\n",
       "      <td>1</td>\n",
       "      <td>1</td>\n",
       "      <td>0</td>\n",
       "      <td>1</td>\n",
       "      <td>99.4</td>\n",
       "      <td>176.6</td>\n",
       "      <td>66.4</td>\n",
       "      <td>54.3</td>\n",
       "      <td>2824</td>\n",
       "      <td>136</td>\n",
       "      <td>3.19</td>\n",
       "      <td>3.40</td>\n",
       "      <td>8.0</td>\n",
       "      <td>115</td>\n",
       "      <td>5500</td>\n",
       "      <td>18</td>\n",
       "      <td>22</td>\n",
       "    </tr>\n",
       "    <tr>\n",
       "      <th>...</th>\n",
       "      <td>...</td>\n",
       "      <td>...</td>\n",
       "      <td>...</td>\n",
       "      <td>...</td>\n",
       "      <td>...</td>\n",
       "      <td>...</td>\n",
       "      <td>...</td>\n",
       "      <td>...</td>\n",
       "      <td>...</td>\n",
       "      <td>...</td>\n",
       "      <td>...</td>\n",
       "      <td>...</td>\n",
       "      <td>...</td>\n",
       "      <td>...</td>\n",
       "      <td>...</td>\n",
       "      <td>...</td>\n",
       "      <td>...</td>\n",
       "    </tr>\n",
       "    <tr>\n",
       "      <th>200</th>\n",
       "      <td>1</td>\n",
       "      <td>1</td>\n",
       "      <td>0</td>\n",
       "      <td>1</td>\n",
       "      <td>109.1</td>\n",
       "      <td>188.8</td>\n",
       "      <td>68.9</td>\n",
       "      <td>55.5</td>\n",
       "      <td>2952</td>\n",
       "      <td>141</td>\n",
       "      <td>3.78</td>\n",
       "      <td>3.15</td>\n",
       "      <td>9.5</td>\n",
       "      <td>114</td>\n",
       "      <td>5400</td>\n",
       "      <td>23</td>\n",
       "      <td>28</td>\n",
       "    </tr>\n",
       "    <tr>\n",
       "      <th>201</th>\n",
       "      <td>1</td>\n",
       "      <td>0</td>\n",
       "      <td>0</td>\n",
       "      <td>1</td>\n",
       "      <td>109.1</td>\n",
       "      <td>188.8</td>\n",
       "      <td>68.8</td>\n",
       "      <td>55.5</td>\n",
       "      <td>3049</td>\n",
       "      <td>141</td>\n",
       "      <td>3.78</td>\n",
       "      <td>3.15</td>\n",
       "      <td>8.7</td>\n",
       "      <td>160</td>\n",
       "      <td>5300</td>\n",
       "      <td>19</td>\n",
       "      <td>25</td>\n",
       "    </tr>\n",
       "    <tr>\n",
       "      <th>202</th>\n",
       "      <td>1</td>\n",
       "      <td>1</td>\n",
       "      <td>0</td>\n",
       "      <td>1</td>\n",
       "      <td>109.1</td>\n",
       "      <td>188.8</td>\n",
       "      <td>68.9</td>\n",
       "      <td>55.5</td>\n",
       "      <td>3012</td>\n",
       "      <td>173</td>\n",
       "      <td>3.58</td>\n",
       "      <td>2.87</td>\n",
       "      <td>8.8</td>\n",
       "      <td>134</td>\n",
       "      <td>5500</td>\n",
       "      <td>18</td>\n",
       "      <td>23</td>\n",
       "    </tr>\n",
       "    <tr>\n",
       "      <th>203</th>\n",
       "      <td>0</td>\n",
       "      <td>0</td>\n",
       "      <td>0</td>\n",
       "      <td>1</td>\n",
       "      <td>109.1</td>\n",
       "      <td>188.8</td>\n",
       "      <td>68.9</td>\n",
       "      <td>55.5</td>\n",
       "      <td>3217</td>\n",
       "      <td>145</td>\n",
       "      <td>3.01</td>\n",
       "      <td>3.40</td>\n",
       "      <td>23.0</td>\n",
       "      <td>106</td>\n",
       "      <td>4800</td>\n",
       "      <td>26</td>\n",
       "      <td>27</td>\n",
       "    </tr>\n",
       "    <tr>\n",
       "      <th>204</th>\n",
       "      <td>1</td>\n",
       "      <td>0</td>\n",
       "      <td>0</td>\n",
       "      <td>1</td>\n",
       "      <td>109.1</td>\n",
       "      <td>188.8</td>\n",
       "      <td>68.9</td>\n",
       "      <td>55.5</td>\n",
       "      <td>3062</td>\n",
       "      <td>141</td>\n",
       "      <td>3.78</td>\n",
       "      <td>3.15</td>\n",
       "      <td>9.5</td>\n",
       "      <td>114</td>\n",
       "      <td>5400</td>\n",
       "      <td>19</td>\n",
       "      <td>25</td>\n",
       "    </tr>\n",
       "  </tbody>\n",
       "</table>\n",
       "<p>205 rows × 17 columns</p>\n",
       "</div>"
      ],
      "text/plain": [
       "    fueltype aspiration doornumber enginelocation  wheelbase  carlength  \\\n",
       "0          1          1          1              1       88.6      168.8   \n",
       "1          1          1          1              1       88.6      168.8   \n",
       "2          1          1          1              1       94.5      171.2   \n",
       "3          1          1          0              1       99.8      176.6   \n",
       "4          1          1          0              1       99.4      176.6   \n",
       "..       ...        ...        ...            ...        ...        ...   \n",
       "200        1          1          0              1      109.1      188.8   \n",
       "201        1          0          0              1      109.1      188.8   \n",
       "202        1          1          0              1      109.1      188.8   \n",
       "203        0          0          0              1      109.1      188.8   \n",
       "204        1          0          0              1      109.1      188.8   \n",
       "\n",
       "     carwidth  carheight  curbweight  enginesize  boreratio  stroke  \\\n",
       "0        64.1       48.8        2548         130       3.47    2.68   \n",
       "1        64.1       48.8        2548         130       3.47    2.68   \n",
       "2        65.5       52.4        2823         152       2.68    3.47   \n",
       "3        66.2       54.3        2337         109       3.19    3.40   \n",
       "4        66.4       54.3        2824         136       3.19    3.40   \n",
       "..        ...        ...         ...         ...        ...     ...   \n",
       "200      68.9       55.5        2952         141       3.78    3.15   \n",
       "201      68.8       55.5        3049         141       3.78    3.15   \n",
       "202      68.9       55.5        3012         173       3.58    2.87   \n",
       "203      68.9       55.5        3217         145       3.01    3.40   \n",
       "204      68.9       55.5        3062         141       3.78    3.15   \n",
       "\n",
       "     compressionratio  horsepower  peakrpm  citympg  highwaympg  \n",
       "0                 9.0         111     5000       21          27  \n",
       "1                 9.0         111     5000       21          27  \n",
       "2                 9.0         154     5000       19          26  \n",
       "3                10.0         102     5500       24          30  \n",
       "4                 8.0         115     5500       18          22  \n",
       "..                ...         ...      ...      ...         ...  \n",
       "200               9.5         114     5400       23          28  \n",
       "201               8.7         160     5300       19          25  \n",
       "202               8.8         134     5500       18          23  \n",
       "203              23.0         106     4800       26          27  \n",
       "204               9.5         114     5400       19          25  \n",
       "\n",
       "[205 rows x 17 columns]"
      ]
     },
     "execution_count": 28,
     "metadata": {},
     "output_type": "execute_result"
    }
   ],
   "source": [
    "x"
   ]
  },
  {
   "cell_type": "code",
   "execution_count": 29,
   "id": "e02aa625",
   "metadata": {
    "execution": {
     "iopub.execute_input": "2023-01-01T16:15:16.927409Z",
     "iopub.status.busy": "2023-01-01T16:15:16.926980Z",
     "iopub.status.idle": "2023-01-01T16:15:16.932119Z",
     "shell.execute_reply": "2023-01-01T16:15:16.931062Z"
    },
    "papermill": {
     "duration": 0.022303,
     "end_time": "2023-01-01T16:15:16.934522",
     "exception": false,
     "start_time": "2023-01-01T16:15:16.912219",
     "status": "completed"
    },
    "tags": []
   },
   "outputs": [],
   "source": [
    "y=df.iloc[:,-1]"
   ]
  },
  {
   "cell_type": "code",
   "execution_count": 30,
   "id": "30de082f",
   "metadata": {
    "execution": {
     "iopub.execute_input": "2023-01-01T16:15:16.963227Z",
     "iopub.status.busy": "2023-01-01T16:15:16.962804Z",
     "iopub.status.idle": "2023-01-01T16:15:16.971944Z",
     "shell.execute_reply": "2023-01-01T16:15:16.970752Z"
    },
    "papermill": {
     "duration": 0.026369,
     "end_time": "2023-01-01T16:15:16.974462",
     "exception": false,
     "start_time": "2023-01-01T16:15:16.948093",
     "status": "completed"
    },
    "tags": []
   },
   "outputs": [
    {
     "data": {
      "text/plain": [
       "0      13495.0\n",
       "1      16500.0\n",
       "2      16500.0\n",
       "3      13950.0\n",
       "4      17450.0\n",
       "        ...   \n",
       "200    16845.0\n",
       "201    19045.0\n",
       "202    21485.0\n",
       "203    22470.0\n",
       "204    22625.0\n",
       "Name: price, Length: 205, dtype: float64"
      ]
     },
     "execution_count": 30,
     "metadata": {},
     "output_type": "execute_result"
    }
   ],
   "source": [
    "y"
   ]
  },
  {
   "cell_type": "markdown",
   "id": "015fcd19",
   "metadata": {
    "papermill": {
     "duration": 0.013155,
     "end_time": "2023-01-01T16:15:17.001408",
     "exception": false,
     "start_time": "2023-01-01T16:15:16.988253",
     "status": "completed"
    },
    "tags": []
   },
   "source": [
    "# Train Test Split"
   ]
  },
  {
   "cell_type": "code",
   "execution_count": 31,
   "id": "6c24efca",
   "metadata": {
    "execution": {
     "iopub.execute_input": "2023-01-01T16:15:17.030475Z",
     "iopub.status.busy": "2023-01-01T16:15:17.029711Z",
     "iopub.status.idle": "2023-01-01T16:15:18.106580Z",
     "shell.execute_reply": "2023-01-01T16:15:18.105328Z"
    },
    "papermill": {
     "duration": 1.094704,
     "end_time": "2023-01-01T16:15:18.109578",
     "exception": false,
     "start_time": "2023-01-01T16:15:17.014874",
     "status": "completed"
    },
    "tags": []
   },
   "outputs": [],
   "source": [
    "from sklearn.model_selection import train_test_split\n",
    "x_train,x_test,y_train,y_test=train_test_split(x,y,test_size=0.2,random_state=60)"
   ]
  },
  {
   "cell_type": "code",
   "execution_count": 32,
   "id": "347272a2",
   "metadata": {
    "execution": {
     "iopub.execute_input": "2023-01-01T16:15:18.140067Z",
     "iopub.status.busy": "2023-01-01T16:15:18.139531Z",
     "iopub.status.idle": "2023-01-01T16:15:18.144975Z",
     "shell.execute_reply": "2023-01-01T16:15:18.143982Z"
    },
    "papermill": {
     "duration": 0.022864,
     "end_time": "2023-01-01T16:15:18.147095",
     "exception": false,
     "start_time": "2023-01-01T16:15:18.124231",
     "status": "completed"
    },
    "tags": []
   },
   "outputs": [],
   "source": [
    "from sklearn.preprocessing import StandardScaler\n",
    "scaler=StandardScaler()"
   ]
  },
  {
   "cell_type": "code",
   "execution_count": 33,
   "id": "6036e768",
   "metadata": {
    "execution": {
     "iopub.execute_input": "2023-01-01T16:15:18.176100Z",
     "iopub.status.busy": "2023-01-01T16:15:18.175698Z",
     "iopub.status.idle": "2023-01-01T16:15:18.185675Z",
     "shell.execute_reply": "2023-01-01T16:15:18.184583Z"
    },
    "papermill": {
     "duration": 0.027348,
     "end_time": "2023-01-01T16:15:18.188116",
     "exception": false,
     "start_time": "2023-01-01T16:15:18.160768",
     "status": "completed"
    },
    "tags": []
   },
   "outputs": [],
   "source": [
    "x_train_scaled=scaler.fit_transform(x_train)"
   ]
  },
  {
   "cell_type": "code",
   "execution_count": 34,
   "id": "2f2e10db",
   "metadata": {
    "execution": {
     "iopub.execute_input": "2023-01-01T16:15:18.218687Z",
     "iopub.status.busy": "2023-01-01T16:15:18.218235Z",
     "iopub.status.idle": "2023-01-01T16:15:18.230865Z",
     "shell.execute_reply": "2023-01-01T16:15:18.229355Z"
    },
    "papermill": {
     "duration": 0.03095,
     "end_time": "2023-01-01T16:15:18.233348",
     "exception": false,
     "start_time": "2023-01-01T16:15:18.202398",
     "status": "completed"
    },
    "tags": []
   },
   "outputs": [],
   "source": [
    "x_test_scaled=scaler.fit_transform(x_test)"
   ]
  },
  {
   "cell_type": "markdown",
   "id": "056f8bac",
   "metadata": {
    "papermill": {
     "duration": 0.013174,
     "end_time": "2023-01-01T16:15:18.260186",
     "exception": false,
     "start_time": "2023-01-01T16:15:18.247012",
     "status": "completed"
    },
    "tags": []
   },
   "source": [
    "# Applying Linear Regression"
   ]
  },
  {
   "cell_type": "code",
   "execution_count": 35,
   "id": "12964dd5",
   "metadata": {
    "execution": {
     "iopub.execute_input": "2023-01-01T16:15:18.288715Z",
     "iopub.status.busy": "2023-01-01T16:15:18.288309Z",
     "iopub.status.idle": "2023-01-01T16:15:18.362794Z",
     "shell.execute_reply": "2023-01-01T16:15:18.361962Z"
    },
    "papermill": {
     "duration": 0.091979,
     "end_time": "2023-01-01T16:15:18.365655",
     "exception": false,
     "start_time": "2023-01-01T16:15:18.273676",
     "status": "completed"
    },
    "tags": []
   },
   "outputs": [],
   "source": [
    "from sklearn.linear_model import LinearRegression\n",
    "lr=LinearRegression()"
   ]
  },
  {
   "cell_type": "code",
   "execution_count": 36,
   "id": "6bf00bf6",
   "metadata": {
    "execution": {
     "iopub.execute_input": "2023-01-01T16:15:18.395838Z",
     "iopub.status.busy": "2023-01-01T16:15:18.395400Z",
     "iopub.status.idle": "2023-01-01T16:15:18.422118Z",
     "shell.execute_reply": "2023-01-01T16:15:18.421112Z"
    },
    "papermill": {
     "duration": 0.04486,
     "end_time": "2023-01-01T16:15:18.424914",
     "exception": false,
     "start_time": "2023-01-01T16:15:18.380054",
     "status": "completed"
    },
    "tags": []
   },
   "outputs": [
    {
     "data": {
      "text/plain": [
       "LinearRegression()"
      ]
     },
     "execution_count": 36,
     "metadata": {},
     "output_type": "execute_result"
    }
   ],
   "source": [
    "lr.fit(x_train_scaled,y_train)"
   ]
  },
  {
   "cell_type": "code",
   "execution_count": 37,
   "id": "6c24df0b",
   "metadata": {
    "execution": {
     "iopub.execute_input": "2023-01-01T16:15:18.454507Z",
     "iopub.status.busy": "2023-01-01T16:15:18.454084Z",
     "iopub.status.idle": "2023-01-01T16:15:18.461363Z",
     "shell.execute_reply": "2023-01-01T16:15:18.460041Z"
    },
    "papermill": {
     "duration": 0.024515,
     "end_time": "2023-01-01T16:15:18.463648",
     "exception": false,
     "start_time": "2023-01-01T16:15:18.439133",
     "status": "completed"
    },
    "tags": []
   },
   "outputs": [],
   "source": [
    "y_pred=lr.predict(x_test_scaled)"
   ]
  },
  {
   "cell_type": "code",
   "execution_count": 38,
   "id": "51887671",
   "metadata": {
    "execution": {
     "iopub.execute_input": "2023-01-01T16:15:18.493263Z",
     "iopub.status.busy": "2023-01-01T16:15:18.492791Z",
     "iopub.status.idle": "2023-01-01T16:15:18.497957Z",
     "shell.execute_reply": "2023-01-01T16:15:18.496973Z"
    },
    "papermill": {
     "duration": 0.022649,
     "end_time": "2023-01-01T16:15:18.500369",
     "exception": false,
     "start_time": "2023-01-01T16:15:18.477720",
     "status": "completed"
    },
    "tags": []
   },
   "outputs": [],
   "source": [
    "from sklearn.metrics import r2_score"
   ]
  },
  {
   "cell_type": "markdown",
   "id": "c8f7e1e5",
   "metadata": {
    "papermill": {
     "duration": 0.013337,
     "end_time": "2023-01-01T16:15:18.527352",
     "exception": false,
     "start_time": "2023-01-01T16:15:18.514015",
     "status": "completed"
    },
    "tags": []
   },
   "source": [
    "# Got 83.61% Accuracy"
   ]
  },
  {
   "cell_type": "code",
   "execution_count": 39,
   "id": "86022649",
   "metadata": {
    "execution": {
     "iopub.execute_input": "2023-01-01T16:15:18.556564Z",
     "iopub.status.busy": "2023-01-01T16:15:18.555930Z",
     "iopub.status.idle": "2023-01-01T16:15:18.563879Z",
     "shell.execute_reply": "2023-01-01T16:15:18.562810Z"
    },
    "papermill": {
     "duration": 0.0267,
     "end_time": "2023-01-01T16:15:18.567642",
     "exception": false,
     "start_time": "2023-01-01T16:15:18.540942",
     "status": "completed"
    },
    "tags": []
   },
   "outputs": [
    {
     "data": {
      "text/plain": [
       "0.8361560062418437"
      ]
     },
     "execution_count": 39,
     "metadata": {},
     "output_type": "execute_result"
    }
   ],
   "source": [
    "r2_score(y_test,y_pred)"
   ]
  },
  {
   "cell_type": "markdown",
   "id": "19a0613c",
   "metadata": {
    "papermill": {
     "duration": 0.014015,
     "end_time": "2023-01-01T16:15:18.595437",
     "exception": false,
     "start_time": "2023-01-01T16:15:18.581422",
     "status": "completed"
    },
    "tags": []
   },
   "source": [
    "* Thank you"
   ]
  }
 ],
 "metadata": {
  "kernelspec": {
   "display_name": "Python 3",
   "language": "python",
   "name": "python3"
  },
  "language_info": {
   "codemirror_mode": {
    "name": "ipython",
    "version": 3
   },
   "file_extension": ".py",
   "mimetype": "text/x-python",
   "name": "python",
   "nbconvert_exporter": "python",
   "pygments_lexer": "ipython3",
   "version": "3.7.12"
  },
  "papermill": {
   "default_parameters": {},
   "duration": 14.044034,
   "end_time": "2023-01-01T16:15:19.331649",
   "environment_variables": {},
   "exception": null,
   "input_path": "__notebook__.ipynb",
   "output_path": "__notebook__.ipynb",
   "parameters": {},
   "start_time": "2023-01-01T16:15:05.287615",
   "version": "2.3.4"
  }
 },
 "nbformat": 4,
 "nbformat_minor": 5
}
