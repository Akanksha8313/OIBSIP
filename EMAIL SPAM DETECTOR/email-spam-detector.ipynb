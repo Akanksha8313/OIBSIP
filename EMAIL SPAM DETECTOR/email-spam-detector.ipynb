{
 "cells": [
  {
   "cell_type": "code",
   "execution_count": 1,
   "id": "1a8db907",
   "metadata": {
    "_cell_guid": "b1076dfc-b9ad-4769-8c92-a6c4dae69d19",
    "_uuid": "8f2839f25d086af736a60e9eeb907d3b93b6e0e5",
    "execution": {
     "iopub.execute_input": "2023-01-02T16:23:24.384494Z",
     "iopub.status.busy": "2023-01-02T16:23:24.383811Z",
     "iopub.status.idle": "2023-01-02T16:23:24.408082Z",
     "shell.execute_reply": "2023-01-02T16:23:24.406145Z"
    },
    "papermill": {
     "duration": 0.040584,
     "end_time": "2023-01-02T16:23:24.412354",
     "exception": false,
     "start_time": "2023-01-02T16:23:24.371770",
     "status": "completed"
    },
    "tags": []
   },
   "outputs": [
    {
     "name": "stdout",
     "output_type": "stream",
     "text": [
      "/kaggle/input/sms-spam-collection-dataset/spam.csv\n"
     ]
    }
   ],
   "source": [
    "# This Python 3 environment comes with many helpful analytics libraries installed\n",
    "# It is defined by the kaggle/python Docker image: https://github.com/kaggle/docker-python\n",
    "# For example, here's several helpful packages to load\n",
    "\n",
    "import numpy as np # linear algebra\n",
    "import pandas as pd # data processing, CSV file I/O (e.g. pd.read_csv)\n",
    "\n",
    "# Input data files are available in the read-only \"../input/\" directory\n",
    "# For example, running this (by clicking run or pressing Shift+Enter) will list all files under the input directory\n",
    "\n",
    "import os\n",
    "for dirname, _, filenames in os.walk('/kaggle/input'):\n",
    "    for filename in filenames:\n",
    "        print(os.path.join(dirname, filename))\n",
    "\n",
    "# You can write up to 20GB to the current directory (/kaggle/working/) that gets preserved as output when you create a version using \"Save & Run All\" \n",
    "# You can also write temporary files to /kaggle/temp/, but they won't be saved outside of the current session"
   ]
  },
  {
   "cell_type": "markdown",
   "id": "9be62bec",
   "metadata": {
    "papermill": {
     "duration": 0.008364,
     "end_time": "2023-01-02T16:23:24.430606",
     "exception": false,
     "start_time": "2023-01-02T16:23:24.422242",
     "status": "completed"
    },
    "tags": []
   },
   "source": [
    "# Index\n",
    "* Reading Csv File\n",
    "* Removing unnecessary columns\n",
    "* Classify The Emails\n",
    "* Simplify The Data\n",
    "* Train Test Split\n",
    "* Converting Data into Integer\n",
    "* Applying Logistic Regression\n",
    "* Got 90% Accuracy"
   ]
  },
  {
   "cell_type": "markdown",
   "id": "0e3a9a95",
   "metadata": {
    "papermill": {
     "duration": 0.007733,
     "end_time": "2023-01-02T16:23:24.447939",
     "exception": false,
     "start_time": "2023-01-02T16:23:24.440206",
     "status": "completed"
    },
    "tags": []
   },
   "source": [
    "# Reading Csv File"
   ]
  },
  {
   "cell_type": "code",
   "execution_count": 2,
   "id": "728979cd",
   "metadata": {
    "execution": {
     "iopub.execute_input": "2023-01-02T16:23:24.468645Z",
     "iopub.status.busy": "2023-01-02T16:23:24.468121Z",
     "iopub.status.idle": "2023-01-02T16:23:24.515544Z",
     "shell.execute_reply": "2023-01-02T16:23:24.513408Z"
    },
    "papermill": {
     "duration": 0.062723,
     "end_time": "2023-01-02T16:23:24.520101",
     "exception": false,
     "start_time": "2023-01-02T16:23:24.457378",
     "status": "completed"
    },
    "tags": []
   },
   "outputs": [],
   "source": [
    "df=pd.read_csv(\"/kaggle/input/sms-spam-collection-dataset/spam.csv\",encoding=\"latin-1\")"
   ]
  },
  {
   "cell_type": "code",
   "execution_count": 3,
   "id": "2ab0fe49",
   "metadata": {
    "execution": {
     "iopub.execute_input": "2023-01-02T16:23:24.541569Z",
     "iopub.status.busy": "2023-01-02T16:23:24.540952Z",
     "iopub.status.idle": "2023-01-02T16:23:24.578734Z",
     "shell.execute_reply": "2023-01-02T16:23:24.577085Z"
    },
    "papermill": {
     "duration": 0.051647,
     "end_time": "2023-01-02T16:23:24.581646",
     "exception": false,
     "start_time": "2023-01-02T16:23:24.529999",
     "status": "completed"
    },
    "tags": []
   },
   "outputs": [
    {
     "data": {
      "text/html": [
       "<div>\n",
       "<style scoped>\n",
       "    .dataframe tbody tr th:only-of-type {\n",
       "        vertical-align: middle;\n",
       "    }\n",
       "\n",
       "    .dataframe tbody tr th {\n",
       "        vertical-align: top;\n",
       "    }\n",
       "\n",
       "    .dataframe thead th {\n",
       "        text-align: right;\n",
       "    }\n",
       "</style>\n",
       "<table border=\"1\" class=\"dataframe\">\n",
       "  <thead>\n",
       "    <tr style=\"text-align: right;\">\n",
       "      <th></th>\n",
       "      <th>v1</th>\n",
       "      <th>v2</th>\n",
       "      <th>Unnamed: 2</th>\n",
       "      <th>Unnamed: 3</th>\n",
       "      <th>Unnamed: 4</th>\n",
       "    </tr>\n",
       "  </thead>\n",
       "  <tbody>\n",
       "    <tr>\n",
       "      <th>0</th>\n",
       "      <td>ham</td>\n",
       "      <td>Go until jurong point, crazy.. Available only ...</td>\n",
       "      <td>NaN</td>\n",
       "      <td>NaN</td>\n",
       "      <td>NaN</td>\n",
       "    </tr>\n",
       "    <tr>\n",
       "      <th>1</th>\n",
       "      <td>ham</td>\n",
       "      <td>Ok lar... Joking wif u oni...</td>\n",
       "      <td>NaN</td>\n",
       "      <td>NaN</td>\n",
       "      <td>NaN</td>\n",
       "    </tr>\n",
       "    <tr>\n",
       "      <th>2</th>\n",
       "      <td>spam</td>\n",
       "      <td>Free entry in 2 a wkly comp to win FA Cup fina...</td>\n",
       "      <td>NaN</td>\n",
       "      <td>NaN</td>\n",
       "      <td>NaN</td>\n",
       "    </tr>\n",
       "    <tr>\n",
       "      <th>3</th>\n",
       "      <td>ham</td>\n",
       "      <td>U dun say so early hor... U c already then say...</td>\n",
       "      <td>NaN</td>\n",
       "      <td>NaN</td>\n",
       "      <td>NaN</td>\n",
       "    </tr>\n",
       "    <tr>\n",
       "      <th>4</th>\n",
       "      <td>ham</td>\n",
       "      <td>Nah I don't think he goes to usf, he lives aro...</td>\n",
       "      <td>NaN</td>\n",
       "      <td>NaN</td>\n",
       "      <td>NaN</td>\n",
       "    </tr>\n",
       "    <tr>\n",
       "      <th>5</th>\n",
       "      <td>spam</td>\n",
       "      <td>FreeMsg Hey there darling it's been 3 week's n...</td>\n",
       "      <td>NaN</td>\n",
       "      <td>NaN</td>\n",
       "      <td>NaN</td>\n",
       "    </tr>\n",
       "    <tr>\n",
       "      <th>6</th>\n",
       "      <td>ham</td>\n",
       "      <td>Even my brother is not like to speak with me. ...</td>\n",
       "      <td>NaN</td>\n",
       "      <td>NaN</td>\n",
       "      <td>NaN</td>\n",
       "    </tr>\n",
       "    <tr>\n",
       "      <th>7</th>\n",
       "      <td>ham</td>\n",
       "      <td>As per your request 'Melle Melle (Oru Minnamin...</td>\n",
       "      <td>NaN</td>\n",
       "      <td>NaN</td>\n",
       "      <td>NaN</td>\n",
       "    </tr>\n",
       "    <tr>\n",
       "      <th>8</th>\n",
       "      <td>spam</td>\n",
       "      <td>WINNER!! As a valued network customer you have...</td>\n",
       "      <td>NaN</td>\n",
       "      <td>NaN</td>\n",
       "      <td>NaN</td>\n",
       "    </tr>\n",
       "    <tr>\n",
       "      <th>9</th>\n",
       "      <td>spam</td>\n",
       "      <td>Had your mobile 11 months or more? U R entitle...</td>\n",
       "      <td>NaN</td>\n",
       "      <td>NaN</td>\n",
       "      <td>NaN</td>\n",
       "    </tr>\n",
       "  </tbody>\n",
       "</table>\n",
       "</div>"
      ],
      "text/plain": [
       "     v1                                                 v2 Unnamed: 2  \\\n",
       "0   ham  Go until jurong point, crazy.. Available only ...        NaN   \n",
       "1   ham                      Ok lar... Joking wif u oni...        NaN   \n",
       "2  spam  Free entry in 2 a wkly comp to win FA Cup fina...        NaN   \n",
       "3   ham  U dun say so early hor... U c already then say...        NaN   \n",
       "4   ham  Nah I don't think he goes to usf, he lives aro...        NaN   \n",
       "5  spam  FreeMsg Hey there darling it's been 3 week's n...        NaN   \n",
       "6   ham  Even my brother is not like to speak with me. ...        NaN   \n",
       "7   ham  As per your request 'Melle Melle (Oru Minnamin...        NaN   \n",
       "8  spam  WINNER!! As a valued network customer you have...        NaN   \n",
       "9  spam  Had your mobile 11 months or more? U R entitle...        NaN   \n",
       "\n",
       "  Unnamed: 3 Unnamed: 4  \n",
       "0        NaN        NaN  \n",
       "1        NaN        NaN  \n",
       "2        NaN        NaN  \n",
       "3        NaN        NaN  \n",
       "4        NaN        NaN  \n",
       "5        NaN        NaN  \n",
       "6        NaN        NaN  \n",
       "7        NaN        NaN  \n",
       "8        NaN        NaN  \n",
       "9        NaN        NaN  "
      ]
     },
     "execution_count": 3,
     "metadata": {},
     "output_type": "execute_result"
    }
   ],
   "source": [
    "df.head(10)"
   ]
  },
  {
   "cell_type": "code",
   "execution_count": 4,
   "id": "237f72fc",
   "metadata": {
    "execution": {
     "iopub.execute_input": "2023-01-02T16:23:24.604450Z",
     "iopub.status.busy": "2023-01-02T16:23:24.602752Z",
     "iopub.status.idle": "2023-01-02T16:23:24.611484Z",
     "shell.execute_reply": "2023-01-02T16:23:24.610172Z"
    },
    "papermill": {
     "duration": 0.022168,
     "end_time": "2023-01-02T16:23:24.614154",
     "exception": false,
     "start_time": "2023-01-02T16:23:24.591986",
     "status": "completed"
    },
    "tags": []
   },
   "outputs": [
    {
     "data": {
      "text/plain": [
       "(5572, 5)"
      ]
     },
     "execution_count": 4,
     "metadata": {},
     "output_type": "execute_result"
    }
   ],
   "source": [
    "df.shape"
   ]
  },
  {
   "cell_type": "markdown",
   "id": "ad852e82",
   "metadata": {
    "papermill": {
     "duration": 0.008341,
     "end_time": "2023-01-02T16:23:24.631642",
     "exception": false,
     "start_time": "2023-01-02T16:23:24.623301",
     "status": "completed"
    },
    "tags": []
   },
   "source": [
    "# Removing unnecessary columns"
   ]
  },
  {
   "cell_type": "code",
   "execution_count": 5,
   "id": "9856c5ce",
   "metadata": {
    "execution": {
     "iopub.execute_input": "2023-01-02T16:23:24.653139Z",
     "iopub.status.busy": "2023-01-02T16:23:24.652399Z",
     "iopub.status.idle": "2023-01-02T16:23:24.666954Z",
     "shell.execute_reply": "2023-01-02T16:23:24.664649Z"
    },
    "papermill": {
     "duration": 0.029965,
     "end_time": "2023-01-02T16:23:24.671010",
     "exception": false,
     "start_time": "2023-01-02T16:23:24.641045",
     "status": "completed"
    },
    "tags": []
   },
   "outputs": [],
   "source": [
    "df=df.drop(columns=[\"Unnamed: 2\",\"Unnamed: 3\",\"Unnamed: 4\"])"
   ]
  },
  {
   "cell_type": "code",
   "execution_count": 6,
   "id": "d71f4517",
   "metadata": {
    "execution": {
     "iopub.execute_input": "2023-01-02T16:23:24.693553Z",
     "iopub.status.busy": "2023-01-02T16:23:24.692223Z",
     "iopub.status.idle": "2023-01-02T16:23:24.728852Z",
     "shell.execute_reply": "2023-01-02T16:23:24.726214Z"
    },
    "papermill": {
     "duration": 0.054163,
     "end_time": "2023-01-02T16:23:24.734070",
     "exception": false,
     "start_time": "2023-01-02T16:23:24.679907",
     "status": "completed"
    },
    "tags": []
   },
   "outputs": [
    {
     "name": "stdout",
     "output_type": "stream",
     "text": [
      "<class 'pandas.core.frame.DataFrame'>\n",
      "RangeIndex: 5572 entries, 0 to 5571\n",
      "Data columns (total 2 columns):\n",
      " #   Column  Non-Null Count  Dtype \n",
      "---  ------  --------------  ----- \n",
      " 0   v1      5572 non-null   object\n",
      " 1   v2      5572 non-null   object\n",
      "dtypes: object(2)\n",
      "memory usage: 87.2+ KB\n"
     ]
    }
   ],
   "source": [
    "df.info()"
   ]
  },
  {
   "cell_type": "code",
   "execution_count": 7,
   "id": "26436f91",
   "metadata": {
    "execution": {
     "iopub.execute_input": "2023-01-02T16:23:24.757592Z",
     "iopub.status.busy": "2023-01-02T16:23:24.756919Z",
     "iopub.status.idle": "2023-01-02T16:23:24.769246Z",
     "shell.execute_reply": "2023-01-02T16:23:24.767809Z"
    },
    "papermill": {
     "duration": 0.028188,
     "end_time": "2023-01-02T16:23:24.772675",
     "exception": false,
     "start_time": "2023-01-02T16:23:24.744487",
     "status": "completed"
    },
    "tags": []
   },
   "outputs": [
    {
     "data": {
      "text/plain": [
       "ham     4825\n",
       "spam     747\n",
       "Name: v1, dtype: int64"
      ]
     },
     "execution_count": 7,
     "metadata": {},
     "output_type": "execute_result"
    }
   ],
   "source": [
    "df.v1.value_counts()"
   ]
  },
  {
   "cell_type": "markdown",
   "id": "9ab88572",
   "metadata": {
    "papermill": {
     "duration": 0.009451,
     "end_time": "2023-01-02T16:23:24.793136",
     "exception": false,
     "start_time": "2023-01-02T16:23:24.783685",
     "status": "completed"
    },
    "tags": []
   },
   "source": [
    "# Classify The Emails"
   ]
  },
  {
   "cell_type": "code",
   "execution_count": 8,
   "id": "a297906d",
   "metadata": {
    "execution": {
     "iopub.execute_input": "2023-01-02T16:23:24.816524Z",
     "iopub.status.busy": "2023-01-02T16:23:24.816007Z",
     "iopub.status.idle": "2023-01-02T16:23:25.080256Z",
     "shell.execute_reply": "2023-01-02T16:23:25.078246Z"
    },
    "papermill": {
     "duration": 0.279708,
     "end_time": "2023-01-02T16:23:25.083471",
     "exception": false,
     "start_time": "2023-01-02T16:23:24.803763",
     "status": "completed"
    },
    "tags": []
   },
   "outputs": [
    {
     "data": {
      "image/png": "[encoded data removed]",
      "text/plain": [
       "<Figure size 432x288 with 1 Axes>"
      ]
     },
     "metadata": {
      "needs_background": "light"
     },
     "output_type": "display_data"
    }
   ],
   "source": [
    "import matplotlib.pyplot as plt\n",
    "df2=pd.value_counts(df[\"v1\"])\n",
    "df2.plot(kind=\"bar\",color= [\"green\", \"red\"])\n",
    "plt.title(\"Classification Between Ham And Spam\")\n",
    "plt.show()"
   ]
  },
  {
   "cell_type": "code",
   "execution_count": 9,
   "id": "728c3c8b",
   "metadata": {
    "execution": {
     "iopub.execute_input": "2023-01-02T16:23:25.105787Z",
     "iopub.status.busy": "2023-01-02T16:23:25.105331Z",
     "iopub.status.idle": "2023-01-02T16:23:25.117727Z",
     "shell.execute_reply": "2023-01-02T16:23:25.115571Z"
    },
    "papermill": {
     "duration": 0.026385,
     "end_time": "2023-01-02T16:23:25.120442",
     "exception": false,
     "start_time": "2023-01-02T16:23:25.094057",
     "status": "completed"
    },
    "tags": []
   },
   "outputs": [
    {
     "data": {
      "text/html": [
       "<div>\n",
       "<style scoped>\n",
       "    .dataframe tbody tr th:only-of-type {\n",
       "        vertical-align: middle;\n",
       "    }\n",
       "\n",
       "    .dataframe tbody tr th {\n",
       "        vertical-align: top;\n",
       "    }\n",
       "\n",
       "    .dataframe thead th {\n",
       "        text-align: right;\n",
       "    }\n",
       "</style>\n",
       "<table border=\"1\" class=\"dataframe\">\n",
       "  <thead>\n",
       "    <tr style=\"text-align: right;\">\n",
       "      <th></th>\n",
       "      <th>v1</th>\n",
       "      <th>v2</th>\n",
       "    </tr>\n",
       "  </thead>\n",
       "  <tbody>\n",
       "    <tr>\n",
       "      <th>0</th>\n",
       "      <td>ham</td>\n",
       "      <td>Go until jurong point, crazy.. Available only ...</td>\n",
       "    </tr>\n",
       "    <tr>\n",
       "      <th>1</th>\n",
       "      <td>ham</td>\n",
       "      <td>Ok lar... Joking wif u oni...</td>\n",
       "    </tr>\n",
       "    <tr>\n",
       "      <th>2</th>\n",
       "      <td>spam</td>\n",
       "      <td>Free entry in 2 a wkly comp to win FA Cup fina...</td>\n",
       "    </tr>\n",
       "    <tr>\n",
       "      <th>3</th>\n",
       "      <td>ham</td>\n",
       "      <td>U dun say so early hor... U c already then say...</td>\n",
       "    </tr>\n",
       "    <tr>\n",
       "      <th>4</th>\n",
       "      <td>ham</td>\n",
       "      <td>Nah I don't think he goes to usf, he lives aro...</td>\n",
       "    </tr>\n",
       "  </tbody>\n",
       "</table>\n",
       "</div>"
      ],
      "text/plain": [
       "     v1                                                 v2\n",
       "0   ham  Go until jurong point, crazy.. Available only ...\n",
       "1   ham                      Ok lar... Joking wif u oni...\n",
       "2  spam  Free entry in 2 a wkly comp to win FA Cup fina...\n",
       "3   ham  U dun say so early hor... U c already then say...\n",
       "4   ham  Nah I don't think he goes to usf, he lives aro..."
      ]
     },
     "execution_count": 9,
     "metadata": {},
     "output_type": "execute_result"
    }
   ],
   "source": [
    "df.head()"
   ]
  },
  {
   "cell_type": "markdown",
   "id": "4661d70b",
   "metadata": {
    "papermill": {
     "duration": 0.008812,
     "end_time": "2023-01-02T16:23:25.139886",
     "exception": false,
     "start_time": "2023-01-02T16:23:25.131074",
     "status": "completed"
    },
    "tags": []
   },
   "source": [
    "#  Simplify The Data"
   ]
  },
  {
   "cell_type": "code",
   "execution_count": 10,
   "id": "05422b8c",
   "metadata": {
    "execution": {
     "iopub.execute_input": "2023-01-02T16:23:25.160325Z",
     "iopub.status.busy": "2023-01-02T16:23:25.159920Z",
     "iopub.status.idle": "2023-01-02T16:23:25.614853Z",
     "shell.execute_reply": "2023-01-02T16:23:25.613114Z"
    },
    "papermill": {
     "duration": 0.469341,
     "end_time": "2023-01-02T16:23:25.618247",
     "exception": false,
     "start_time": "2023-01-02T16:23:25.148906",
     "status": "completed"
    },
    "tags": []
   },
   "outputs": [],
   "source": [
    "for i in range(0,5572):\n",
    "    if df['v1'][i]=='spam':\n",
    "        df['v1'][i]=1\n",
    "    else:\n",
    "        df['v1'][i]=0"
   ]
  },
  {
   "cell_type": "code",
   "execution_count": 11,
   "id": "feaad62e",
   "metadata": {
    "execution": {
     "iopub.execute_input": "2023-01-02T16:23:25.639380Z",
     "iopub.status.busy": "2023-01-02T16:23:25.638992Z",
     "iopub.status.idle": "2023-01-02T16:23:25.837657Z",
     "shell.execute_reply": "2023-01-02T16:23:25.835853Z"
    },
    "papermill": {
     "duration": 0.213145,
     "end_time": "2023-01-02T16:23:25.840767",
     "exception": false,
     "start_time": "2023-01-02T16:23:25.627622",
     "status": "completed"
    },
    "tags": []
   },
   "outputs": [
    {
     "data": {
      "image/png": "[encoded data removed]",
      "text/plain": [
       "<Figure size 432x288 with 1 Axes>"
      ]
     },
     "metadata": {
      "needs_background": "light"
     },
     "output_type": "display_data"
    }
   ],
   "source": [
    "import matplotlib.pyplot as plt\n",
    "df2=pd.value_counts(df[\"v1\"])\n",
    "df2.plot(kind=\"bar\",color= [\"green\", \"red\"])\n",
    "plt.title(\"Classification Between Ham And Spam\")\n",
    "plt.show()"
   ]
  },
  {
   "cell_type": "markdown",
   "id": "cd3b2149",
   "metadata": {
    "papermill": {
     "duration": 0.009371,
     "end_time": "2023-01-02T16:23:25.860874",
     "exception": false,
     "start_time": "2023-01-02T16:23:25.851503",
     "status": "completed"
    },
    "tags": []
   },
   "source": [
    "# Train Test Split"
   ]
  },
  {
   "cell_type": "code",
   "execution_count": 12,
   "id": "57ed7305",
   "metadata": {
    "execution": {
     "iopub.execute_input": "2023-01-02T16:23:25.883504Z",
     "iopub.status.busy": "2023-01-02T16:23:25.883052Z",
     "iopub.status.idle": "2023-01-02T16:23:27.219294Z",
     "shell.execute_reply": "2023-01-02T16:23:27.217847Z"
    },
    "papermill": {
     "duration": 1.351287,
     "end_time": "2023-01-02T16:23:27.222588",
     "exception": false,
     "start_time": "2023-01-02T16:23:25.871301",
     "status": "completed"
    },
    "tags": []
   },
   "outputs": [],
   "source": [
    "from sklearn.model_selection import train_test_split\n",
    "x_train, x_test, y_train, y_test=train_test_split(df.v2, df.v1,test_size=0.3, random_state=42 )"
   ]
  },
  {
   "cell_type": "code",
   "execution_count": 13,
   "id": "ecbb3107",
   "metadata": {
    "execution": {
     "iopub.execute_input": "2023-01-02T16:23:27.243712Z",
     "iopub.status.busy": "2023-01-02T16:23:27.243162Z",
     "iopub.status.idle": "2023-01-02T16:23:27.345309Z",
     "shell.execute_reply": "2023-01-02T16:23:27.343820Z"
    },
    "papermill": {
     "duration": 0.116434,
     "end_time": "2023-01-02T16:23:27.348331",
     "exception": false,
     "start_time": "2023-01-02T16:23:27.231897",
     "status": "completed"
    },
    "tags": []
   },
   "outputs": [],
   "source": [
    "from sklearn.feature_extraction.text import CountVectorizer\n",
    "cv= CountVectorizer()\n",
    "x_train_new= cv.fit_transform(x_train)"
   ]
  },
  {
   "cell_type": "code",
   "execution_count": 14,
   "id": "54925560",
   "metadata": {
    "execution": {
     "iopub.execute_input": "2023-01-02T16:23:27.371374Z",
     "iopub.status.busy": "2023-01-02T16:23:27.370899Z",
     "iopub.status.idle": "2023-01-02T16:23:27.380291Z",
     "shell.execute_reply": "2023-01-02T16:23:27.378814Z"
    },
    "papermill": {
     "duration": 0.025131,
     "end_time": "2023-01-02T16:23:27.383206",
     "exception": false,
     "start_time": "2023-01-02T16:23:27.358075",
     "status": "completed"
    },
    "tags": []
   },
   "outputs": [
    {
     "data": {
      "text/plain": [
       "3245    0\n",
       "944     0\n",
       "1044    1\n",
       "2484    0\n",
       "812     1\n",
       "       ..\n",
       "2505    0\n",
       "2525    0\n",
       "4975    0\n",
       "650     0\n",
       "4463    0\n",
       "Name: v1, Length: 1672, dtype: object"
      ]
     },
     "execution_count": 14,
     "metadata": {},
     "output_type": "execute_result"
    }
   ],
   "source": [
    "y_test"
   ]
  },
  {
   "cell_type": "code",
   "execution_count": 15,
   "id": "1753d5c5",
   "metadata": {
    "execution": {
     "iopub.execute_input": "2023-01-02T16:23:27.405097Z",
     "iopub.status.busy": "2023-01-02T16:23:27.404459Z",
     "iopub.status.idle": "2023-01-02T16:23:27.414448Z",
     "shell.execute_reply": "2023-01-02T16:23:27.413290Z"
    },
    "papermill": {
     "duration": 0.02462,
     "end_time": "2023-01-02T16:23:27.417347",
     "exception": false,
     "start_time": "2023-01-02T16:23:27.392727",
     "status": "completed"
    },
    "tags": []
   },
   "outputs": [
    {
     "data": {
      "text/plain": [
       "708     To review and KEEP the fantastic Nokia N-Gage ...\n",
       "4338                   Just got outta class gonna go gym.\n",
       "5029    Is there coming friday is leave for pongal?do ...\n",
       "4921    Hi Dear Call me its urgnt. I don't know whats ...\n",
       "2592    My friend just got here and says he's upping h...\n",
       "                              ...                        \n",
       "3772    I came hostel. I m going to sleep. Plz call me...\n",
       "5191                               Sorry, I'll call later\n",
       "5226        Prabha..i'm soryda..realy..frm heart i'm sory\n",
       "5390                           Nt joking seriously i told\n",
       "860                   In work now. Going have in few min.\n",
       "Name: v2, Length: 3900, dtype: object"
      ]
     },
     "execution_count": 15,
     "metadata": {},
     "output_type": "execute_result"
    }
   ],
   "source": [
    "x_train"
   ]
  },
  {
   "cell_type": "code",
   "execution_count": 16,
   "id": "7d4f6015",
   "metadata": {
    "execution": {
     "iopub.execute_input": "2023-01-02T16:23:27.438545Z",
     "iopub.status.busy": "2023-01-02T16:23:27.437409Z",
     "iopub.status.idle": "2023-01-02T16:23:27.447506Z",
     "shell.execute_reply": "2023-01-02T16:23:27.445755Z"
    },
    "papermill": {
     "duration": 0.023406,
     "end_time": "2023-01-02T16:23:27.450169",
     "exception": false,
     "start_time": "2023-01-02T16:23:27.426763",
     "status": "completed"
    },
    "tags": []
   },
   "outputs": [
    {
     "data": {
      "text/plain": [
       "708     1\n",
       "4338    0\n",
       "5029    0\n",
       "4921    0\n",
       "2592    0\n",
       "       ..\n",
       "3772    0\n",
       "5191    0\n",
       "5226    0\n",
       "5390    0\n",
       "860     0\n",
       "Name: v1, Length: 3900, dtype: object"
      ]
     },
     "execution_count": 16,
     "metadata": {},
     "output_type": "execute_result"
    }
   ],
   "source": [
    "y_train"
   ]
  },
  {
   "cell_type": "code",
   "execution_count": 17,
   "id": "f77445e9",
   "metadata": {
    "execution": {
     "iopub.execute_input": "2023-01-02T16:23:27.472615Z",
     "iopub.status.busy": "2023-01-02T16:23:27.471186Z",
     "iopub.status.idle": "2023-01-02T16:23:27.481841Z",
     "shell.execute_reply": "2023-01-02T16:23:27.480118Z"
    },
    "papermill": {
     "duration": 0.024883,
     "end_time": "2023-01-02T16:23:27.484794",
     "exception": false,
     "start_time": "2023-01-02T16:23:27.459911",
     "status": "completed"
    },
    "tags": []
   },
   "outputs": [
    {
     "data": {
      "text/plain": [
       "3245    0\n",
       "944     0\n",
       "1044    1\n",
       "2484    0\n",
       "812     1\n",
       "       ..\n",
       "2505    0\n",
       "2525    0\n",
       "4975    0\n",
       "650     0\n",
       "4463    0\n",
       "Name: v1, Length: 1672, dtype: object"
      ]
     },
     "execution_count": 17,
     "metadata": {},
     "output_type": "execute_result"
    }
   ],
   "source": [
    "y_test"
   ]
  },
  {
   "cell_type": "code",
   "execution_count": 18,
   "id": "5a627d18",
   "metadata": {
    "execution": {
     "iopub.execute_input": "2023-01-02T16:23:27.506808Z",
     "iopub.status.busy": "2023-01-02T16:23:27.506053Z",
     "iopub.status.idle": "2023-01-02T16:23:27.510522Z",
     "shell.execute_reply": "2023-01-02T16:23:27.509682Z"
    },
    "papermill": {
     "duration": 0.018112,
     "end_time": "2023-01-02T16:23:27.513076",
     "exception": false,
     "start_time": "2023-01-02T16:23:27.494964",
     "status": "completed"
    },
    "tags": []
   },
   "outputs": [],
   "source": [
    "from sklearn.metrics import f1_score\n",
    "from sklearn.metrics import confusion_matrix"
   ]
  },
  {
   "cell_type": "markdown",
   "id": "5f7dc945",
   "metadata": {
    "papermill": {
     "duration": 0.009988,
     "end_time": "2023-01-02T16:23:27.533653",
     "exception": false,
     "start_time": "2023-01-02T16:23:27.523665",
     "status": "completed"
    },
    "tags": []
   },
   "source": [
    "# Converting Data into Integer"
   ]
  },
  {
   "cell_type": "code",
   "execution_count": 19,
   "id": "fce76bd1",
   "metadata": {
    "execution": {
     "iopub.execute_input": "2023-01-02T16:23:27.556825Z",
     "iopub.status.busy": "2023-01-02T16:23:27.555983Z",
     "iopub.status.idle": "2023-01-02T16:23:27.561606Z",
     "shell.execute_reply": "2023-01-02T16:23:27.560553Z"
    },
    "papermill": {
     "duration": 0.020909,
     "end_time": "2023-01-02T16:23:27.564228",
     "exception": false,
     "start_time": "2023-01-02T16:23:27.543319",
     "status": "completed"
    },
    "tags": []
   },
   "outputs": [],
   "source": [
    "y_train=y_train.astype(int)"
   ]
  },
  {
   "cell_type": "code",
   "execution_count": 20,
   "id": "ea3c9aa5",
   "metadata": {
    "execution": {
     "iopub.execute_input": "2023-01-02T16:23:27.587809Z",
     "iopub.status.busy": "2023-01-02T16:23:27.587001Z",
     "iopub.status.idle": "2023-01-02T16:23:27.592111Z",
     "shell.execute_reply": "2023-01-02T16:23:27.591160Z"
    },
    "papermill": {
     "duration": 0.020421,
     "end_time": "2023-01-02T16:23:27.594776",
     "exception": false,
     "start_time": "2023-01-02T16:23:27.574355",
     "status": "completed"
    },
    "tags": []
   },
   "outputs": [],
   "source": [
    "x_train_new=x_train_new.astype(int)"
   ]
  },
  {
   "cell_type": "code",
   "execution_count": 21,
   "id": "40cd9d48",
   "metadata": {
    "execution": {
     "iopub.execute_input": "2023-01-02T16:23:27.616389Z",
     "iopub.status.busy": "2023-01-02T16:23:27.615669Z",
     "iopub.status.idle": "2023-01-02T16:23:27.622095Z",
     "shell.execute_reply": "2023-01-02T16:23:27.620888Z"
    },
    "papermill": {
     "duration": 0.020021,
     "end_time": "2023-01-02T16:23:27.624573",
     "exception": false,
     "start_time": "2023-01-02T16:23:27.604552",
     "status": "completed"
    },
    "tags": []
   },
   "outputs": [
    {
     "data": {
      "text/plain": [
       "<3900x7206 sparse matrix of type '<class 'numpy.int64'>'\n",
       "\twith 51569 stored elements in Compressed Sparse Row format>"
      ]
     },
     "execution_count": 21,
     "metadata": {},
     "output_type": "execute_result"
    }
   ],
   "source": [
    "x_train_new"
   ]
  },
  {
   "cell_type": "code",
   "execution_count": 22,
   "id": "6c8f512c",
   "metadata": {
    "execution": {
     "iopub.execute_input": "2023-01-02T16:23:27.646261Z",
     "iopub.status.busy": "2023-01-02T16:23:27.645564Z",
     "iopub.status.idle": "2023-01-02T16:23:27.650491Z",
     "shell.execute_reply": "2023-01-02T16:23:27.649632Z"
    },
    "papermill": {
     "duration": 0.018556,
     "end_time": "2023-01-02T16:23:27.652999",
     "exception": false,
     "start_time": "2023-01-02T16:23:27.634443",
     "status": "completed"
    },
    "tags": []
   },
   "outputs": [],
   "source": [
    "y_test=y_test.astype(int)"
   ]
  },
  {
   "cell_type": "markdown",
   "id": "7b883e2e",
   "metadata": {
    "papermill": {
     "duration": 0.009515,
     "end_time": "2023-01-02T16:23:27.672243",
     "exception": false,
     "start_time": "2023-01-02T16:23:27.662728",
     "status": "completed"
    },
    "tags": []
   },
   "source": [
    "# Applying Logistic Regression"
   ]
  },
  {
   "cell_type": "code",
   "execution_count": 23,
   "id": "197c7858",
   "metadata": {
    "execution": {
     "iopub.execute_input": "2023-01-02T16:23:27.695284Z",
     "iopub.status.busy": "2023-01-02T16:23:27.694859Z",
     "iopub.status.idle": "2023-01-02T16:23:27.903456Z",
     "shell.execute_reply": "2023-01-02T16:23:27.902087Z"
    },
    "papermill": {
     "duration": 0.223464,
     "end_time": "2023-01-02T16:23:27.906356",
     "exception": false,
     "start_time": "2023-01-02T16:23:27.682892",
     "status": "completed"
    },
    "tags": []
   },
   "outputs": [],
   "source": [
    "from sklearn.linear_model import LogisticRegression\n",
    "lr= LogisticRegression()\n",
    "lr.fit(x_train_new, y_train)\n",
    "lr_pred= lr.predict(cv.transform(x_test))\n",
    "lr_cm= confusion_matrix(y_test, lr_pred)"
   ]
  },
  {
   "cell_type": "markdown",
   "id": "1a8c9c48",
   "metadata": {
    "papermill": {
     "duration": 0.009693,
     "end_time": "2023-01-02T16:23:27.925831",
     "exception": false,
     "start_time": "2023-01-02T16:23:27.916138",
     "status": "completed"
    },
    "tags": []
   },
   "source": [
    "# Got 90% Accuracy"
   ]
  },
  {
   "cell_type": "code",
   "execution_count": 24,
   "id": "895b7811",
   "metadata": {
    "execution": {
     "iopub.execute_input": "2023-01-02T16:23:27.947436Z",
     "iopub.status.busy": "2023-01-02T16:23:27.947049Z",
     "iopub.status.idle": "2023-01-02T16:23:27.958239Z",
     "shell.execute_reply": "2023-01-02T16:23:27.957244Z"
    },
    "papermill": {
     "duration": 0.025532,
     "end_time": "2023-01-02T16:23:27.961039",
     "exception": false,
     "start_time": "2023-01-02T16:23:27.935507",
     "status": "completed"
    },
    "tags": []
   },
   "outputs": [
    {
     "data": {
      "text/plain": [
       "0.9090909090909092"
      ]
     },
     "execution_count": 24,
     "metadata": {},
     "output_type": "execute_result"
    }
   ],
   "source": [
    "f1_score(y_test, lr_pred)"
   ]
  },
  {
   "cell_type": "markdown",
   "id": "dcb2dc81",
   "metadata": {
    "papermill": {
     "duration": 0.010011,
     "end_time": "2023-01-02T16:23:27.981407",
     "exception": false,
     "start_time": "2023-01-02T16:23:27.971396",
     "status": "completed"
    },
    "tags": []
   },
   "source": [
    "**Thanks**"
   ]
  },
  {
   "cell_type": "code",
   "execution_count": null,
   "id": "03a4a9d3",
   "metadata": {
    "papermill": {
     "duration": 0.009895,
     "end_time": "2023-01-02T16:23:28.001214",
     "exception": false,
     "start_time": "2023-01-02T16:23:27.991319",
     "status": "completed"
    },
    "tags": []
   },
   "outputs": [],
   "source": []
  }
 ],
 "metadata": {
  "kernelspec": {
   "display_name": "Python 3",
   "language": "python",
   "name": "python3"
  },
  "language_info": {
   "codemirror_mode": {
    "name": "ipython",
    "version": 3
   },
   "file_extension": ".py",
   "mimetype": "text/x-python",
   "name": "python",
   "nbconvert_exporter": "python",
   "pygments_lexer": "ipython3",
   "version": "3.7.12"
  },
  "papermill": {
   "default_parameters": {},
   "duration": 15.361671,
   "end_time": "2023-01-02T16:23:28.836684",
   "environment_variables": {},
   "exception": null,
   "input_path": "__notebook__.ipynb",
   "output_path": "__notebook__.ipynb",
   "parameters": {},
   "start_time": "2023-01-02T16:23:13.475013",
   "version": "2.3.4"
  }
 },
 "nbformat": 4,
 "nbformat_minor": 5
}
