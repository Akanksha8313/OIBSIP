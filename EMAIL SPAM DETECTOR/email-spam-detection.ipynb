{
 "cells": [
  {
   "cell_type": "code",
   "execution_count": 1,
   "id": "5fe67037",
   "metadata": {
    "_cell_guid": "b1076dfc-b9ad-4769-8c92-a6c4dae69d19",
    "_uuid": "8f2839f25d086af736a60e9eeb907d3b93b6e0e5",
    "execution": {
     "iopub.execute_input": "2023-01-02T13:23:27.448014Z",
     "iopub.status.busy": "2023-01-02T13:23:27.447433Z",
     "iopub.status.idle": "2023-01-02T13:23:27.467279Z",
     "shell.execute_reply": "2023-01-02T13:23:27.465402Z"
    },
    "papermill": {
     "duration": 0.032816,
     "end_time": "2023-01-02T13:23:27.470333",
     "exception": false,
     "start_time": "2023-01-02T13:23:27.437517",
     "status": "completed"
    },
    "tags": []
   },
   "outputs": [
    {
     "name": "stdout",
     "output_type": "stream",
     "text": [
      "/kaggle/input/sms-spam-collection-dataset/spam.csv\n"
     ]
    }
   ],
   "source": [
    "# This Python 3 environment comes with many helpful analytics libraries installed\n",
    "# It is defined by the kaggle/python Docker image: https://github.com/kaggle/docker-python\n",
    "# For example, here's several helpful packages to load\n",
    "\n",
    "import numpy as np # linear algebra\n",
    "import pandas as pd # data processing, CSV file I/O (e.g. pd.read_csv)\n",
    "\n",
    "# Input data files are available in the read-only \"../input/\" directory\n",
    "# For example, running this (by clicking run or pressing Shift+Enter) will list all files under the input directory\n",
    "\n",
    "import os\n",
    "for dirname, _, filenames in os.walk('/kaggle/input'):\n",
    "    for filename in filenames:\n",
    "        print(os.path.join(dirname, filename))\n",
    "\n",
    "# You can write up to 20GB to the current directory (/kaggle/working/) that gets preserved as output when you create a version using \"Save & Run All\" \n",
    "# You can also write temporary files to /kaggle/temp/, but they won't be saved outside of the current session"
   ]
  },
  {
   "cell_type": "markdown",
   "id": "ed047dba",
   "metadata": {
    "papermill": {
     "duration": 0.007401,
     "end_time": "2023-01-02T13:23:27.485960",
     "exception": false,
     "start_time": "2023-01-02T13:23:27.478559",
     "status": "completed"
    },
    "tags": []
   },
   "source": [
    "# Index\n",
    "* Reading Csv File\n",
    "* Removing unnecessary columns\n",
    "* Classify The Emails\n",
    "* Simplify The Data\n",
    "* Train Test Split\n",
    "* Converting Data into Integer\n",
    "* Applying Logistic Regression\n",
    "* Got 90% Accuracy"
   ]
  },
  {
   "cell_type": "markdown",
   "id": "10e3cf15",
   "metadata": {
    "papermill": {
     "duration": 0.006998,
     "end_time": "2023-01-02T13:23:27.500726",
     "exception": false,
     "start_time": "2023-01-02T13:23:27.493728",
     "status": "completed"
    },
    "tags": []
   },
   "source": [
    "# Reading Csv File"
   ]
  },
  {
   "cell_type": "code",
   "execution_count": 2,
   "id": "4de37e78",
   "metadata": {
    "execution": {
     "iopub.execute_input": "2023-01-02T13:23:27.517536Z",
     "iopub.status.busy": "2023-01-02T13:23:27.517173Z",
     "iopub.status.idle": "2023-01-02T13:23:27.548314Z",
     "shell.execute_reply": "2023-01-02T13:23:27.546810Z"
    },
    "papermill": {
     "duration": 0.042432,
     "end_time": "2023-01-02T13:23:27.550772",
     "exception": false,
     "start_time": "2023-01-02T13:23:27.508340",
     "status": "completed"
    },
    "tags": []
   },
   "outputs": [],
   "source": [
    "df=pd.read_csv(\"/kaggle/input/sms-spam-collection-dataset/spam.csv\",encoding=\"latin-1\")"
   ]
  },
  {
   "cell_type": "code",
   "execution_count": 3,
   "id": "d6986b38",
   "metadata": {
    "execution": {
     "iopub.execute_input": "2023-01-02T13:23:27.567021Z",
     "iopub.status.busy": "2023-01-02T13:23:27.565840Z",
     "iopub.status.idle": "2023-01-02T13:23:27.590797Z",
     "shell.execute_reply": "2023-01-02T13:23:27.589802Z"
    },
    "papermill": {
     "duration": 0.034786,
     "end_time": "2023-01-02T13:23:27.592886",
     "exception": false,
     "start_time": "2023-01-02T13:23:27.558100",
     "status": "completed"
    },
    "tags": []
   },
   "outputs": [
    {
     "data": {
      "text/html": [
       "<div>\n",
       "<style scoped>\n",
       "    .dataframe tbody tr th:only-of-type {\n",
       "        vertical-align: middle;\n",
       "    }\n",
       "\n",
       "    .dataframe tbody tr th {\n",
       "        vertical-align: top;\n",
       "    }\n",
       "\n",
       "    .dataframe thead th {\n",
       "        text-align: right;\n",
       "    }\n",
       "</style>\n",
       "<table border=\"1\" class=\"dataframe\">\n",
       "  <thead>\n",
       "    <tr style=\"text-align: right;\">\n",
       "      <th></th>\n",
       "      <th>v1</th>\n",
       "      <th>v2</th>\n",
       "      <th>Unnamed: 2</th>\n",
       "      <th>Unnamed: 3</th>\n",
       "      <th>Unnamed: 4</th>\n",
       "    </tr>\n",
       "  </thead>\n",
       "  <tbody>\n",
       "    <tr>\n",
       "      <th>0</th>\n",
       "      <td>ham</td>\n",
       "      <td>Go until jurong point, crazy.. Available only ...</td>\n",
       "      <td>NaN</td>\n",
       "      <td>NaN</td>\n",
       "      <td>NaN</td>\n",
       "    </tr>\n",
       "    <tr>\n",
       "      <th>1</th>\n",
       "      <td>ham</td>\n",
       "      <td>Ok lar... Joking wif u oni...</td>\n",
       "      <td>NaN</td>\n",
       "      <td>NaN</td>\n",
       "      <td>NaN</td>\n",
       "    </tr>\n",
       "    <tr>\n",
       "      <th>2</th>\n",
       "      <td>spam</td>\n",
       "      <td>Free entry in 2 a wkly comp to win FA Cup fina...</td>\n",
       "      <td>NaN</td>\n",
       "      <td>NaN</td>\n",
       "      <td>NaN</td>\n",
       "    </tr>\n",
       "    <tr>\n",
       "      <th>3</th>\n",
       "      <td>ham</td>\n",
       "      <td>U dun say so early hor... U c already then say...</td>\n",
       "      <td>NaN</td>\n",
       "      <td>NaN</td>\n",
       "      <td>NaN</td>\n",
       "    </tr>\n",
       "    <tr>\n",
       "      <th>4</th>\n",
       "      <td>ham</td>\n",
       "      <td>Nah I don't think he goes to usf, he lives aro...</td>\n",
       "      <td>NaN</td>\n",
       "      <td>NaN</td>\n",
       "      <td>NaN</td>\n",
       "    </tr>\n",
       "    <tr>\n",
       "      <th>5</th>\n",
       "      <td>spam</td>\n",
       "      <td>FreeMsg Hey there darling it's been 3 week's n...</td>\n",
       "      <td>NaN</td>\n",
       "      <td>NaN</td>\n",
       "      <td>NaN</td>\n",
       "    </tr>\n",
       "    <tr>\n",
       "      <th>6</th>\n",
       "      <td>ham</td>\n",
       "      <td>Even my brother is not like to speak with me. ...</td>\n",
       "      <td>NaN</td>\n",
       "      <td>NaN</td>\n",
       "      <td>NaN</td>\n",
       "    </tr>\n",
       "    <tr>\n",
       "      <th>7</th>\n",
       "      <td>ham</td>\n",
       "      <td>As per your request 'Melle Melle (Oru Minnamin...</td>\n",
       "      <td>NaN</td>\n",
       "      <td>NaN</td>\n",
       "      <td>NaN</td>\n",
       "    </tr>\n",
       "    <tr>\n",
       "      <th>8</th>\n",
       "      <td>spam</td>\n",
       "      <td>WINNER!! As a valued network customer you have...</td>\n",
       "      <td>NaN</td>\n",
       "      <td>NaN</td>\n",
       "      <td>NaN</td>\n",
       "    </tr>\n",
       "    <tr>\n",
       "      <th>9</th>\n",
       "      <td>spam</td>\n",
       "      <td>Had your mobile 11 months or more? U R entitle...</td>\n",
       "      <td>NaN</td>\n",
       "      <td>NaN</td>\n",
       "      <td>NaN</td>\n",
       "    </tr>\n",
       "  </tbody>\n",
       "</table>\n",
       "</div>"
      ],
      "text/plain": [
       "     v1                                                 v2 Unnamed: 2  \\\n",
       "0   ham  Go until jurong point, crazy.. Available only ...        NaN   \n",
       "1   ham                      Ok lar... Joking wif u oni...        NaN   \n",
       "2  spam  Free entry in 2 a wkly comp to win FA Cup fina...        NaN   \n",
       "3   ham  U dun say so early hor... U c already then say...        NaN   \n",
       "4   ham  Nah I don't think he goes to usf, he lives aro...        NaN   \n",
       "5  spam  FreeMsg Hey there darling it's been 3 week's n...        NaN   \n",
       "6   ham  Even my brother is not like to speak with me. ...        NaN   \n",
       "7   ham  As per your request 'Melle Melle (Oru Minnamin...        NaN   \n",
       "8  spam  WINNER!! As a valued network customer you have...        NaN   \n",
       "9  spam  Had your mobile 11 months or more? U R entitle...        NaN   \n",
       "\n",
       "  Unnamed: 3 Unnamed: 4  \n",
       "0        NaN        NaN  \n",
       "1        NaN        NaN  \n",
       "2        NaN        NaN  \n",
       "3        NaN        NaN  \n",
       "4        NaN        NaN  \n",
       "5        NaN        NaN  \n",
       "6        NaN        NaN  \n",
       "7        NaN        NaN  \n",
       "8        NaN        NaN  \n",
       "9        NaN        NaN  "
      ]
     },
     "execution_count": 3,
     "metadata": {},
     "output_type": "execute_result"
    }
   ],
   "source": [
    "df.head(10)"
   ]
  },
  {
   "cell_type": "code",
   "execution_count": 4,
   "id": "ddaa8d36",
   "metadata": {
    "execution": {
     "iopub.execute_input": "2023-01-02T13:23:27.611958Z",
     "iopub.status.busy": "2023-01-02T13:23:27.610872Z",
     "iopub.status.idle": "2023-01-02T13:23:27.618993Z",
     "shell.execute_reply": "2023-01-02T13:23:27.617992Z"
    },
    "papermill": {
     "duration": 0.019175,
     "end_time": "2023-01-02T13:23:27.620685",
     "exception": false,
     "start_time": "2023-01-02T13:23:27.601510",
     "status": "completed"
    },
    "tags": []
   },
   "outputs": [
    {
     "data": {
      "text/plain": [
       "(5572, 5)"
      ]
     },
     "execution_count": 4,
     "metadata": {},
     "output_type": "execute_result"
    }
   ],
   "source": [
    "df.shape"
   ]
  },
  {
   "cell_type": "markdown",
   "id": "9377928a",
   "metadata": {
    "papermill": {
     "duration": 0.006866,
     "end_time": "2023-01-02T13:23:27.635012",
     "exception": false,
     "start_time": "2023-01-02T13:23:27.628146",
     "status": "completed"
    },
    "tags": []
   },
   "source": [
    "# Removing unnecessary columns"
   ]
  },
  {
   "cell_type": "code",
   "execution_count": 5,
   "id": "ccd5c16d",
   "metadata": {
    "execution": {
     "iopub.execute_input": "2023-01-02T13:23:27.652767Z",
     "iopub.status.busy": "2023-01-02T13:23:27.652170Z",
     "iopub.status.idle": "2023-01-02T13:23:27.663465Z",
     "shell.execute_reply": "2023-01-02T13:23:27.662410Z"
    },
    "papermill": {
     "duration": 0.023219,
     "end_time": "2023-01-02T13:23:27.665751",
     "exception": false,
     "start_time": "2023-01-02T13:23:27.642532",
     "status": "completed"
    },
    "tags": []
   },
   "outputs": [],
   "source": [
    "df=df.drop(columns=[\"Unnamed: 2\",\"Unnamed: 3\",\"Unnamed: 4\"])"
   ]
  },
  {
   "cell_type": "code",
   "execution_count": 6,
   "id": "ff0b3e0b",
   "metadata": {
    "execution": {
     "iopub.execute_input": "2023-01-02T13:23:27.684080Z",
     "iopub.status.busy": "2023-01-02T13:23:27.683273Z",
     "iopub.status.idle": "2023-01-02T13:23:27.707357Z",
     "shell.execute_reply": "2023-01-02T13:23:27.705408Z"
    },
    "papermill": {
     "duration": 0.036889,
     "end_time": "2023-01-02T13:23:27.710120",
     "exception": false,
     "start_time": "2023-01-02T13:23:27.673231",
     "status": "completed"
    },
    "tags": []
   },
   "outputs": [
    {
     "name": "stdout",
     "output_type": "stream",
     "text": [
      "<class 'pandas.core.frame.DataFrame'>\n",
      "RangeIndex: 5572 entries, 0 to 5571\n",
      "Data columns (total 2 columns):\n",
      " #   Column  Non-Null Count  Dtype \n",
      "---  ------  --------------  ----- \n",
      " 0   v1      5572 non-null   object\n",
      " 1   v2      5572 non-null   object\n",
      "dtypes: object(2)\n",
      "memory usage: 87.2+ KB\n"
     ]
    }
   ],
   "source": [
    "df.info()"
   ]
  },
  {
   "cell_type": "code",
   "execution_count": 7,
   "id": "a6c18291",
   "metadata": {
    "execution": {
     "iopub.execute_input": "2023-01-02T13:23:27.727726Z",
     "iopub.status.busy": "2023-01-02T13:23:27.727174Z",
     "iopub.status.idle": "2023-01-02T13:23:27.734422Z",
     "shell.execute_reply": "2023-01-02T13:23:27.733265Z"
    },
    "papermill": {
     "duration": 0.018814,
     "end_time": "2023-01-02T13:23:27.736939",
     "exception": false,
     "start_time": "2023-01-02T13:23:27.718125",
     "status": "completed"
    },
    "tags": []
   },
   "outputs": [
    {
     "data": {
      "text/plain": [
       "ham     4825\n",
       "spam     747\n",
       "Name: v1, dtype: int64"
      ]
     },
     "execution_count": 7,
     "metadata": {},
     "output_type": "execute_result"
    }
   ],
   "source": [
    "df.v1.value_counts()"
   ]
  },
  {
   "cell_type": "markdown",
   "id": "f8f2aa67",
   "metadata": {
    "papermill": {
     "duration": 0.007808,
     "end_time": "2023-01-02T13:23:27.753139",
     "exception": false,
     "start_time": "2023-01-02T13:23:27.745331",
     "status": "completed"
    },
    "tags": []
   },
   "source": [
    "# Classify The Emails"
   ]
  },
  {
   "cell_type": "code",
   "execution_count": 8,
   "id": "034ef550",
   "metadata": {
    "execution": {
     "iopub.execute_input": "2023-01-02T13:23:27.770873Z",
     "iopub.status.busy": "2023-01-02T13:23:27.770260Z",
     "iopub.status.idle": "2023-01-02T13:23:27.950034Z",
     "shell.execute_reply": "2023-01-02T13:23:27.948904Z"
    },
    "papermill": {
     "duration": 0.191324,
     "end_time": "2023-01-02T13:23:27.952264",
     "exception": false,
     "start_time": "2023-01-02T13:23:27.760940",
     "status": "completed"
    },
    "tags": []
   },
   "outputs": [
    {
     "data": {
      "image/png": "[encoded data removed]",
      "text/plain": [
       "<Figure size 432x288 with 1 Axes>"
      ]
     },
     "metadata": {
      "needs_background": "light"
     },
     "output_type": "display_data"
    }
   ],
   "source": [
    "import matplotlib.pyplot as plt\n",
    "df2=pd.value_counts(df[\"v1\"])\n",
    "df2.plot(kind=\"bar\",color= [\"green\", \"red\"])\n",
    "plt.title(\"Classification Between Ham And Spam\")\n",
    "plt.show()"
   ]
  },
  {
   "cell_type": "code",
   "execution_count": 9,
   "id": "92edf735",
   "metadata": {
    "execution": {
     "iopub.execute_input": "2023-01-02T13:23:27.970652Z",
     "iopub.status.busy": "2023-01-02T13:23:27.970089Z",
     "iopub.status.idle": "2023-01-02T13:23:27.978159Z",
     "shell.execute_reply": "2023-01-02T13:23:27.977377Z"
    },
    "papermill": {
     "duration": 0.020142,
     "end_time": "2023-01-02T13:23:27.980791",
     "exception": false,
     "start_time": "2023-01-02T13:23:27.960649",
     "status": "completed"
    },
    "tags": []
   },
   "outputs": [
    {
     "data": {
      "text/html": [
       "<div>\n",
       "<style scoped>\n",
       "    .dataframe tbody tr th:only-of-type {\n",
       "        vertical-align: middle;\n",
       "    }\n",
       "\n",
       "    .dataframe tbody tr th {\n",
       "        vertical-align: top;\n",
       "    }\n",
       "\n",
       "    .dataframe thead th {\n",
       "        text-align: right;\n",
       "    }\n",
       "</style>\n",
       "<table border=\"1\" class=\"dataframe\">\n",
       "  <thead>\n",
       "    <tr style=\"text-align: right;\">\n",
       "      <th></th>\n",
       "      <th>v1</th>\n",
       "      <th>v2</th>\n",
       "    </tr>\n",
       "  </thead>\n",
       "  <tbody>\n",
       "    <tr>\n",
       "      <th>0</th>\n",
       "      <td>ham</td>\n",
       "      <td>Go until jurong point, crazy.. Available only ...</td>\n",
       "    </tr>\n",
       "    <tr>\n",
       "      <th>1</th>\n",
       "      <td>ham</td>\n",
       "      <td>Ok lar... Joking wif u oni...</td>\n",
       "    </tr>\n",
       "    <tr>\n",
       "      <th>2</th>\n",
       "      <td>spam</td>\n",
       "      <td>Free entry in 2 a wkly comp to win FA Cup fina...</td>\n",
       "    </tr>\n",
       "    <tr>\n",
       "      <th>3</th>\n",
       "      <td>ham</td>\n",
       "      <td>U dun say so early hor... U c already then say...</td>\n",
       "    </tr>\n",
       "    <tr>\n",
       "      <th>4</th>\n",
       "      <td>ham</td>\n",
       "      <td>Nah I don't think he goes to usf, he lives aro...</td>\n",
       "    </tr>\n",
       "  </tbody>\n",
       "</table>\n",
       "</div>"
      ],
      "text/plain": [
       "     v1                                                 v2\n",
       "0   ham  Go until jurong point, crazy.. Available only ...\n",
       "1   ham                      Ok lar... Joking wif u oni...\n",
       "2  spam  Free entry in 2 a wkly comp to win FA Cup fina...\n",
       "3   ham  U dun say so early hor... U c already then say...\n",
       "4   ham  Nah I don't think he goes to usf, he lives aro..."
      ]
     },
     "execution_count": 9,
     "metadata": {},
     "output_type": "execute_result"
    }
   ],
   "source": [
    "df.head()"
   ]
  },
  {
   "cell_type": "markdown",
   "id": "86d038ae",
   "metadata": {
    "papermill": {
     "duration": 0.008197,
     "end_time": "2023-01-02T13:23:27.997440",
     "exception": false,
     "start_time": "2023-01-02T13:23:27.989243",
     "status": "completed"
    },
    "tags": []
   },
   "source": [
    "# Simplify The Data"
   ]
  },
  {
   "cell_type": "code",
   "execution_count": 10,
   "id": "c7fc1622",
   "metadata": {
    "execution": {
     "iopub.execute_input": "2023-01-02T13:23:28.015492Z",
     "iopub.status.busy": "2023-01-02T13:23:28.015141Z",
     "iopub.status.idle": "2023-01-02T13:23:28.448732Z",
     "shell.execute_reply": "2023-01-02T13:23:28.447631Z"
    },
    "papermill": {
     "duration": 0.445308,
     "end_time": "2023-01-02T13:23:28.451087",
     "exception": false,
     "start_time": "2023-01-02T13:23:28.005779",
     "status": "completed"
    },
    "tags": []
   },
   "outputs": [],
   "source": [
    "for i in range(0,5572):\n",
    "    if df['v1'][i]=='spam':\n",
    "        df['v1'][i]=1\n",
    "    else:\n",
    "        df['v1'][i]=0"
   ]
  },
  {
   "cell_type": "code",
   "execution_count": 11,
   "id": "cf6fb8c9",
   "metadata": {
    "execution": {
     "iopub.execute_input": "2023-01-02T13:23:28.470564Z",
     "iopub.status.busy": "2023-01-02T13:23:28.470221Z",
     "iopub.status.idle": "2023-01-02T13:23:28.595899Z",
     "shell.execute_reply": "2023-01-02T13:23:28.594591Z"
    },
    "papermill": {
     "duration": 0.138028,
     "end_time": "2023-01-02T13:23:28.598716",
     "exception": false,
     "start_time": "2023-01-02T13:23:28.460688",
     "status": "completed"
    },
    "tags": []
   },
   "outputs": [
    {
     "data": {
      "image/png": "[encoded data removed]",
      "text/plain": [
       "<Figure size 432x288 with 1 Axes>"
      ]
     },
     "metadata": {
      "needs_background": "light"
     },
     "output_type": "display_data"
    }
   ],
   "source": [
    "import matplotlib.pyplot as plt\n",
    "df2=pd.value_counts(df[\"v1\"])\n",
    "df2.plot(kind=\"bar\",color= [\"green\", \"red\"])\n",
    "plt.title(\"Classification Between Ham And Spam\")\n",
    "plt.show()"
   ]
  },
  {
   "cell_type": "markdown",
   "id": "50262973",
   "metadata": {
    "papermill": {
     "duration": 0.008596,
     "end_time": "2023-01-02T13:23:28.626066",
     "exception": false,
     "start_time": "2023-01-02T13:23:28.617470",
     "status": "completed"
    },
    "tags": []
   },
   "source": [
    "# Train Test Split"
   ]
  },
  {
   "cell_type": "code",
   "execution_count": 12,
   "id": "5418a818",
   "metadata": {
    "execution": {
     "iopub.execute_input": "2023-01-02T13:23:28.648459Z",
     "iopub.status.busy": "2023-01-02T13:23:28.648107Z",
     "iopub.status.idle": "2023-01-02T13:23:29.802186Z",
     "shell.execute_reply": "2023-01-02T13:23:29.800477Z"
    },
    "papermill": {
     "duration": 1.168928,
     "end_time": "2023-01-02T13:23:29.804790",
     "exception": false,
     "start_time": "2023-01-02T13:23:28.635862",
     "status": "completed"
    },
    "tags": []
   },
   "outputs": [],
   "source": [
    "from sklearn.model_selection import train_test_split\n",
    "x_train, x_test, y_train, y_test=train_test_split(df.v2, df.v1,test_size=0.3, random_state=42 )"
   ]
  },
  {
   "cell_type": "code",
   "execution_count": 13,
   "id": "7dccde12",
   "metadata": {
    "execution": {
     "iopub.execute_input": "2023-01-02T13:23:29.824753Z",
     "iopub.status.busy": "2023-01-02T13:23:29.824242Z",
     "iopub.status.idle": "2023-01-02T13:23:29.920942Z",
     "shell.execute_reply": "2023-01-02T13:23:29.918987Z"
    },
    "papermill": {
     "duration": 0.110464,
     "end_time": "2023-01-02T13:23:29.923515",
     "exception": false,
     "start_time": "2023-01-02T13:23:29.813051",
     "status": "completed"
    },
    "tags": []
   },
   "outputs": [],
   "source": [
    "from sklearn.feature_extraction.text import CountVectorizer\n",
    "cv= CountVectorizer()\n",
    "x_train_new= cv.fit_transform(x_train)"
   ]
  },
  {
   "cell_type": "code",
   "execution_count": 14,
   "id": "bd832f4e",
   "metadata": {
    "execution": {
     "iopub.execute_input": "2023-01-02T13:23:29.941749Z",
     "iopub.status.busy": "2023-01-02T13:23:29.941364Z",
     "iopub.status.idle": "2023-01-02T13:23:29.950588Z",
     "shell.execute_reply": "2023-01-02T13:23:29.949028Z"
    },
    "papermill": {
     "duration": 0.021484,
     "end_time": "2023-01-02T13:23:29.953352",
     "exception": false,
     "start_time": "2023-01-02T13:23:29.931868",
     "status": "completed"
    },
    "tags": []
   },
   "outputs": [
    {
     "data": {
      "text/plain": [
       "3245    0\n",
       "944     0\n",
       "1044    1\n",
       "2484    0\n",
       "812     1\n",
       "       ..\n",
       "2505    0\n",
       "2525    0\n",
       "4975    0\n",
       "650     0\n",
       "4463    0\n",
       "Name: v1, Length: 1672, dtype: object"
      ]
     },
     "execution_count": 14,
     "metadata": {},
     "output_type": "execute_result"
    }
   ],
   "source": [
    "y_test"
   ]
  },
  {
   "cell_type": "code",
   "execution_count": 15,
   "id": "a648ed22",
   "metadata": {
    "execution": {
     "iopub.execute_input": "2023-01-02T13:23:29.972903Z",
     "iopub.status.busy": "2023-01-02T13:23:29.972537Z",
     "iopub.status.idle": "2023-01-02T13:23:29.983300Z",
     "shell.execute_reply": "2023-01-02T13:23:29.981557Z"
    },
    "papermill": {
     "duration": 0.02448,
     "end_time": "2023-01-02T13:23:29.986486",
     "exception": false,
     "start_time": "2023-01-02T13:23:29.962006",
     "status": "completed"
    },
    "tags": []
   },
   "outputs": [
    {
     "data": {
      "text/plain": [
       "708     To review and KEEP the fantastic Nokia N-Gage ...\n",
       "4338                   Just got outta class gonna go gym.\n",
       "5029    Is there coming friday is leave for pongal?do ...\n",
       "4921    Hi Dear Call me its urgnt. I don't know whats ...\n",
       "2592    My friend just got here and says he's upping h...\n",
       "                              ...                        \n",
       "3772    I came hostel. I m going to sleep. Plz call me...\n",
       "5191                               Sorry, I'll call later\n",
       "5226        Prabha..i'm soryda..realy..frm heart i'm sory\n",
       "5390                           Nt joking seriously i told\n",
       "860                   In work now. Going have in few min.\n",
       "Name: v2, Length: 3900, dtype: object"
      ]
     },
     "execution_count": 15,
     "metadata": {},
     "output_type": "execute_result"
    }
   ],
   "source": [
    "x_train"
   ]
  },
  {
   "cell_type": "code",
   "execution_count": 16,
   "id": "9e31c9cb",
   "metadata": {
    "execution": {
     "iopub.execute_input": "2023-01-02T13:23:30.007217Z",
     "iopub.status.busy": "2023-01-02T13:23:30.006311Z",
     "iopub.status.idle": "2023-01-02T13:23:30.014259Z",
     "shell.execute_reply": "2023-01-02T13:23:30.013341Z"
    },
    "papermill": {
     "duration": 0.021498,
     "end_time": "2023-01-02T13:23:30.016942",
     "exception": false,
     "start_time": "2023-01-02T13:23:29.995444",
     "status": "completed"
    },
    "tags": []
   },
   "outputs": [
    {
     "data": {
      "text/plain": [
       "3245    Funny fact Nobody teaches volcanoes 2 erupt, t...\n",
       "944     I sent my scores to sophas and i had to do sec...\n",
       "1044    We know someone who you know that fancies you....\n",
       "2484    Only if you promise your getting out as SOON a...\n",
       "812     Congratulations ur awarded either å£500 of CD ...\n",
       "                              ...                        \n",
       "2505                 Congrats kano..whr s the treat maga?\n",
       "2525    Say this slowly.? GOD,I LOVE YOU &amp; I NEED ...\n",
       "4975    You are gorgeous! keep those pix cumming :) th...\n",
       "650     Thats cool! Sometimes slow and gentle. Sonetim...\n",
       "4463         Ranjith cal drpd Deeraj and deepak 5min hold\n",
       "Name: v2, Length: 1672, dtype: object"
      ]
     },
     "execution_count": 16,
     "metadata": {},
     "output_type": "execute_result"
    }
   ],
   "source": [
    "x_test"
   ]
  },
  {
   "cell_type": "code",
   "execution_count": 17,
   "id": "dcfbc066",
   "metadata": {
    "execution": {
     "iopub.execute_input": "2023-01-02T13:23:30.036957Z",
     "iopub.status.busy": "2023-01-02T13:23:30.036401Z",
     "iopub.status.idle": "2023-01-02T13:23:30.043308Z",
     "shell.execute_reply": "2023-01-02T13:23:30.042238Z"
    },
    "papermill": {
     "duration": 0.020004,
     "end_time": "2023-01-02T13:23:30.045848",
     "exception": false,
     "start_time": "2023-01-02T13:23:30.025844",
     "status": "completed"
    },
    "tags": []
   },
   "outputs": [
    {
     "data": {
      "text/plain": [
       "708     1\n",
       "4338    0\n",
       "5029    0\n",
       "4921    0\n",
       "2592    0\n",
       "       ..\n",
       "3772    0\n",
       "5191    0\n",
       "5226    0\n",
       "5390    0\n",
       "860     0\n",
       "Name: v1, Length: 3900, dtype: object"
      ]
     },
     "execution_count": 17,
     "metadata": {},
     "output_type": "execute_result"
    }
   ],
   "source": [
    "y_train"
   ]
  },
  {
   "cell_type": "code",
   "execution_count": 18,
   "id": "e09ac26e",
   "metadata": {
    "execution": {
     "iopub.execute_input": "2023-01-02T13:23:30.065648Z",
     "iopub.status.busy": "2023-01-02T13:23:30.065086Z",
     "iopub.status.idle": "2023-01-02T13:23:30.068589Z",
     "shell.execute_reply": "2023-01-02T13:23:30.067986Z"
    },
    "papermill": {
     "duration": 0.016635,
     "end_time": "2023-01-02T13:23:30.071650",
     "exception": false,
     "start_time": "2023-01-02T13:23:30.055015",
     "status": "completed"
    },
    "tags": []
   },
   "outputs": [],
   "source": [
    "from sklearn.metrics import f1_score\n",
    "from sklearn.metrics import confusion_matrix"
   ]
  },
  {
   "cell_type": "markdown",
   "id": "d754387a",
   "metadata": {
    "papermill": {
     "duration": 0.009729,
     "end_time": "2023-01-02T13:23:30.090538",
     "exception": false,
     "start_time": "2023-01-02T13:23:30.080809",
     "status": "completed"
    },
    "tags": []
   },
   "source": [
    "# Converting Data into Integer"
   ]
  },
  {
   "cell_type": "code",
   "execution_count": 19,
   "id": "0875abf0",
   "metadata": {
    "execution": {
     "iopub.execute_input": "2023-01-02T13:23:30.110979Z",
     "iopub.status.busy": "2023-01-02T13:23:30.110437Z",
     "iopub.status.idle": "2023-01-02T13:23:30.114615Z",
     "shell.execute_reply": "2023-01-02T13:23:30.113696Z"
    },
    "papermill": {
     "duration": 0.017489,
     "end_time": "2023-01-02T13:23:30.117215",
     "exception": false,
     "start_time": "2023-01-02T13:23:30.099726",
     "status": "completed"
    },
    "tags": []
   },
   "outputs": [],
   "source": [
    "y_train=y_train.astype(int)"
   ]
  },
  {
   "cell_type": "code",
   "execution_count": 20,
   "id": "2037495f",
   "metadata": {
    "execution": {
     "iopub.execute_input": "2023-01-02T13:23:30.136526Z",
     "iopub.status.busy": "2023-01-02T13:23:30.136165Z",
     "iopub.status.idle": "2023-01-02T13:23:30.141149Z",
     "shell.execute_reply": "2023-01-02T13:23:30.139797Z"
    },
    "papermill": {
     "duration": 0.01794,
     "end_time": "2023-01-02T13:23:30.143789",
     "exception": false,
     "start_time": "2023-01-02T13:23:30.125849",
     "status": "completed"
    },
    "tags": []
   },
   "outputs": [],
   "source": [
    "x_train_new=x_train_new.astype(int)"
   ]
  },
  {
   "cell_type": "code",
   "execution_count": 21,
   "id": "97ab9583",
   "metadata": {
    "execution": {
     "iopub.execute_input": "2023-01-02T13:23:30.163942Z",
     "iopub.status.busy": "2023-01-02T13:23:30.163554Z",
     "iopub.status.idle": "2023-01-02T13:23:30.170365Z",
     "shell.execute_reply": "2023-01-02T13:23:30.169017Z"
    },
    "papermill": {
     "duration": 0.02016,
     "end_time": "2023-01-02T13:23:30.173149",
     "exception": false,
     "start_time": "2023-01-02T13:23:30.152989",
     "status": "completed"
    },
    "tags": []
   },
   "outputs": [
    {
     "data": {
      "text/plain": [
       "<3900x7206 sparse matrix of type '<class 'numpy.int64'>'\n",
       "\twith 51569 stored elements in Compressed Sparse Row format>"
      ]
     },
     "execution_count": 21,
     "metadata": {},
     "output_type": "execute_result"
    }
   ],
   "source": [
    "x_train_new"
   ]
  },
  {
   "cell_type": "markdown",
   "id": "de5af447",
   "metadata": {
    "papermill": {
     "duration": 0.009108,
     "end_time": "2023-01-02T13:23:30.191191",
     "exception": false,
     "start_time": "2023-01-02T13:23:30.182083",
     "status": "completed"
    },
    "tags": []
   },
   "source": []
  },
  {
   "cell_type": "code",
   "execution_count": 22,
   "id": "60c7a1d9",
   "metadata": {
    "execution": {
     "iopub.execute_input": "2023-01-02T13:23:30.209083Z",
     "iopub.status.busy": "2023-01-02T13:23:30.208662Z",
     "iopub.status.idle": "2023-01-02T13:23:30.214472Z",
     "shell.execute_reply": "2023-01-02T13:23:30.212443Z"
    },
    "papermill": {
     "duration": 0.018029,
     "end_time": "2023-01-02T13:23:30.217011",
     "exception": false,
     "start_time": "2023-01-02T13:23:30.198982",
     "status": "completed"
    },
    "tags": []
   },
   "outputs": [],
   "source": [
    "y_test=y_test.astype(int)"
   ]
  },
  {
   "cell_type": "markdown",
   "id": "1efe0dff",
   "metadata": {
    "papermill": {
     "duration": 0.008559,
     "end_time": "2023-01-02T13:23:30.234651",
     "exception": false,
     "start_time": "2023-01-02T13:23:30.226092",
     "status": "completed"
    },
    "tags": []
   },
   "source": []
  },
  {
   "cell_type": "markdown",
   "id": "39125bf2",
   "metadata": {
    "papermill": {
     "duration": 0.008515,
     "end_time": "2023-01-02T13:23:30.251988",
     "exception": false,
     "start_time": "2023-01-02T13:23:30.243473",
     "status": "completed"
    },
    "tags": []
   },
   "source": [
    "# Applying Logistic Regression"
   ]
  },
  {
   "cell_type": "code",
   "execution_count": 23,
   "id": "9c76fe1c",
   "metadata": {
    "execution": {
     "iopub.execute_input": "2023-01-02T13:23:30.271755Z",
     "iopub.status.busy": "2023-01-02T13:23:30.271406Z",
     "iopub.status.idle": "2023-01-02T13:23:30.357446Z",
     "shell.execute_reply": "2023-01-02T13:23:30.355008Z"
    },
    "papermill": {
     "duration": 0.09962,
     "end_time": "2023-01-02T13:23:30.360434",
     "exception": true,
     "start_time": "2023-01-02T13:23:30.260814",
     "status": "failed"
    },
    "tags": []
   },
   "outputs": [
    {
     "ename": "NameError",
     "evalue": "name 'LogisticRegression' is not defined",
     "output_type": "error",
     "traceback": [
      "\u001b[0;31m---------------------------------------------------------------------------\u001b[0m",
      "\u001b[0;31mNameError\u001b[0m                                 Traceback (most recent call last)",
      "\u001b[0;32m/tmp/ipykernel_19/4286227775.py\u001b[0m in \u001b[0;36m<module>\u001b[0;34m\u001b[0m\n\u001b[0;32m----> 1\u001b[0;31m \u001b[0mlr\u001b[0m\u001b[0;34m=\u001b[0m \u001b[0mLogisticRegression\u001b[0m\u001b[0;34m(\u001b[0m\u001b[0;34m)\u001b[0m\u001b[0;34m\u001b[0m\u001b[0;34m\u001b[0m\u001b[0m\n\u001b[0m\u001b[1;32m      2\u001b[0m \u001b[0mlr\u001b[0m\u001b[0;34m.\u001b[0m\u001b[0mfit\u001b[0m\u001b[0;34m(\u001b[0m\u001b[0mx_train_new\u001b[0m\u001b[0;34m,\u001b[0m \u001b[0my_train\u001b[0m\u001b[0;34m)\u001b[0m\u001b[0;34m\u001b[0m\u001b[0;34m\u001b[0m\u001b[0m\n\u001b[1;32m      3\u001b[0m \u001b[0mlr_pred\u001b[0m\u001b[0;34m=\u001b[0m \u001b[0mlr\u001b[0m\u001b[0;34m.\u001b[0m\u001b[0mpredict\u001b[0m\u001b[0;34m(\u001b[0m\u001b[0mtf\u001b[0m\u001b[0;34m.\u001b[0m\u001b[0mtransform\u001b[0m\u001b[0;34m(\u001b[0m\u001b[0mx_test\u001b[0m\u001b[0;34m)\u001b[0m\u001b[0;34m)\u001b[0m\u001b[0;34m\u001b[0m\u001b[0;34m\u001b[0m\u001b[0m\n\u001b[1;32m      4\u001b[0m \u001b[0mlr_cm\u001b[0m\u001b[0;34m=\u001b[0m \u001b[0mconfusion_matrix\u001b[0m\u001b[0;34m(\u001b[0m\u001b[0my_test\u001b[0m\u001b[0;34m,\u001b[0m \u001b[0mlr_pred\u001b[0m\u001b[0;34m)\u001b[0m\u001b[0;34m\u001b[0m\u001b[0;34m\u001b[0m\u001b[0m\n",
      "\u001b[0;31mNameError\u001b[0m: name 'LogisticRegression' is not defined"
     ]
    }
   ],
   "source": [
    "lr= LogisticRegression()\n",
    "lr.fit(x_train_new, y_train)\n",
    "lr_pred= lr.predict(tf.transform(x_test))\n",
    "lr_cm= confusion_matrix(y_test, lr_pred)"
   ]
  },
  {
   "cell_type": "markdown",
   "id": "78de5305",
   "metadata": {
    "papermill": {
     "duration": null,
     "end_time": null,
     "exception": null,
     "start_time": null,
     "status": "pending"
    },
    "tags": []
   },
   "source": [
    "# Got 90% Accuracy"
   ]
  },
  {
   "cell_type": "markdown",
   "id": "d1af0529",
   "metadata": {
    "papermill": {
     "duration": null,
     "end_time": null,
     "exception": null,
     "start_time": null,
     "status": "pending"
    },
    "tags": []
   },
   "source": [
    "> Thanks"
   ]
  },
  {
   "cell_type": "code",
   "execution_count": null,
   "id": "534117f5",
   "metadata": {
    "papermill": {
     "duration": null,
     "end_time": null,
     "exception": null,
     "start_time": null,
     "status": "pending"
    },
    "tags": []
   },
   "outputs": [],
   "source": []
  }
 ],
 "metadata": {
  "kernelspec": {
   "display_name": "Python 3",
   "language": "python",
   "name": "python3"
  },
  "language_info": {
   "codemirror_mode": {
    "name": "ipython",
    "version": 3
   },
   "file_extension": ".py",
   "mimetype": "text/x-python",
   "name": "python",
   "nbconvert_exporter": "python",
   "pygments_lexer": "ipython3",
   "version": "3.7.12"
  },
  "papermill": {
   "default_parameters": {},
   "duration": 11.767948,
   "end_time": "2023-01-02T13:23:31.193753",
   "environment_variables": {},
   "exception": true,
   "input_path": "__notebook__.ipynb",
   "output_path": "__notebook__.ipynb",
   "parameters": {},
   "start_time": "2023-01-02T13:23:19.425805",
   "version": "2.3.4"
  }
 },
 "nbformat": 4,
 "nbformat_minor": 5
}
